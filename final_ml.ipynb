{
  "nbformat": 4,
  "nbformat_minor": 0,
  "metadata": {
    "colab": {
      "name": "final ml",
      "provenance": [],
      "collapsed_sections": []
    },
    "kernelspec": {
      "display_name": "Python 3",
      "name": "python3"
    },
    "language_info": {
      "name": "python"
    }
  },
  "cells": [
    {
      "cell_type": "markdown",
      "metadata": {
        "id": "6qyvFI8a_gOD"
      },
      "source": [
        "from google.colab import files\n",
        "uploaded = files.upload()"
      ]
    },
    {
      "cell_type": "code",
      "metadata": {
        "id": "u9JsClzUiwah",
        "colab": {
          "resources": {
            "http://localhost:8080/nbextensions/google.colab/files.js": {
              "data": "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",
              "ok": true,
              "headers": [
                [
                  "content-type",
                  "application/javascript"
                ]
              ],
              "status": 200,
              "status_text": ""
            }
          },
          "base_uri": "https://localhost:8080/",
          "height": 74
        },
        "outputId": "e8fc2991-d42e-44b9-c940-47475f0947aa"
      },
      "source": [
        "from google.colab import files\n",
        "uploaded = files.upload()"
      ],
      "execution_count": null,
      "outputs": [
        {
          "output_type": "display_data",
          "data": {
            "text/html": [
              "\n",
              "     <input type=\"file\" id=\"files-73a53ccd-9ffd-42b1-8301-d06cb4fcb562\" name=\"files[]\" multiple disabled\n",
              "        style=\"border:none\" />\n",
              "     <output id=\"result-73a53ccd-9ffd-42b1-8301-d06cb4fcb562\">\n",
              "      Upload widget is only available when the cell has been executed in the\n",
              "      current browser session. Please rerun this cell to enable.\n",
              "      </output>\n",
              "      <script src=\"/nbextensions/google.colab/files.js\"></script> "
            ],
            "text/plain": [
              "<IPython.core.display.HTML object>"
            ]
          },
          "metadata": {
            "tags": []
          }
        },
        {
          "output_type": "stream",
          "text": [
            "Saving fml.csv to fml (2).csv\n"
          ],
          "name": "stdout"
        }
      ]
    },
    {
      "cell_type": "code",
      "metadata": {
        "colab": {
          "base_uri": "https://localhost:8080/",
          "height": 660
        },
        "id": "IT8o11tV3E8H",
        "outputId": "ca703996-37b0-4d78-9969-74d92153a94b"
      },
      "source": [
        "df = pd.read_csv('fml (2).csv')\n",
        "df.head()"
      ],
      "execution_count": null,
      "outputs": [
        {
          "output_type": "execute_result",
          "data": {
            "text/html": [
              "<div>\n",
              "<style scoped>\n",
              "    .dataframe tbody tr th:only-of-type {\n",
              "        vertical-align: middle;\n",
              "    }\n",
              "\n",
              "    .dataframe tbody tr th {\n",
              "        vertical-align: top;\n",
              "    }\n",
              "\n",
              "    .dataframe thead th {\n",
              "        text-align: right;\n",
              "    }\n",
              "</style>\n",
              "<table border=\"1\" class=\"dataframe\">\n",
              "  <thead>\n",
              "    <tr style=\"text-align: right;\">\n",
              "      <th></th>\n",
              "      <th>Unnamed: 0</th>\n",
              "      <th>Unnamed: 0.1</th>\n",
              "      <th>X</th>\n",
              "      <th>link</th>\n",
              "      <th>title</th>\n",
              "      <th>author</th>\n",
              "      <th>text</th>\n",
              "      <th>keywords</th>\n",
              "      <th>tags</th>\n",
              "      <th>compound</th>\n",
              "      <th>neg</th>\n",
              "      <th>neu</th>\n",
              "      <th>pos</th>\n",
              "      <th>polarity</th>\n",
              "      <th>subjectivity</th>\n",
              "      <th>bd</th>\n",
              "      <th>tneg</th>\n",
              "      <th>tneu</th>\n",
              "      <th>tpos</th>\n",
              "      <th>tsub</th>\n",
              "      <th>tpol</th>\n",
              "      <th>sent</th>\n",
              "      <th>leftc</th>\n",
              "      <th>rightc</th>\n",
              "    </tr>\n",
              "  </thead>\n",
              "  <tbody>\n",
              "    <tr>\n",
              "      <th>0</th>\n",
              "      <td>0</td>\n",
              "      <td>1</td>\n",
              "      <td>0</td>\n",
              "      <td>https://kindest.com/442355-defend-democracy-to...</td>\n",
              "      <td>Defend Democracy Today: Support Fearless, Insi...</td>\n",
              "      <td>[]</td>\n",
              "      <td>While the election has come and gone, the figh...</td>\n",
              "      <td>['reporting', 'come', 'today', 'access', 'chec...</td>\n",
              "      <td>set()</td>\n",
              "      <td>0.8612</td>\n",
              "      <td>0.063</td>\n",
              "      <td>0.819</td>\n",
              "      <td>0.118</td>\n",
              "      <td>0.165589</td>\n",
              "      <td>0.539782</td>\n",
              "      <td>left</td>\n",
              "      <td>0.000</td>\n",
              "      <td>0.472</td>\n",
              "      <td>0.528</td>\n",
              "      <td>0.000000</td>\n",
              "      <td>0.000000</td>\n",
              "      <td>['While the election has come and gone, the fi...</td>\n",
              "      <td>0</td>\n",
              "      <td>12</td>\n",
              "    </tr>\n",
              "    <tr>\n",
              "      <th>1</th>\n",
              "      <td>1</td>\n",
              "      <td>2</td>\n",
              "      <td>1</td>\n",
              "      <td>https://www.alternet.org/2021/03/dan-crenshaw/</td>\n",
              "      <td>Republican Dan Crenshaw goes down in flames du...</td>\n",
              "      <td>['Sarah K. Burris', 'Raw Story']</td>\n",
              "      <td>MSNBC host Mehdi Hasan went after Rep. Dan Cre...</td>\n",
              "      <td>['come', 'didnt', 'going', 'fox', 'biden', 'cr...</td>\n",
              "      <td>{'Religious right'}</td>\n",
              "      <td>0.6474</td>\n",
              "      <td>0.055</td>\n",
              "      <td>0.876</td>\n",
              "      <td>0.069</td>\n",
              "      <td>-0.034989</td>\n",
              "      <td>0.411162</td>\n",
              "      <td>left</td>\n",
              "      <td>0.000</td>\n",
              "      <td>1.000</td>\n",
              "      <td>0.000</td>\n",
              "      <td>-0.155556</td>\n",
              "      <td>0.288889</td>\n",
              "      <td>['MSNBC host Mehdi Hasan went after Rep', ' Da...</td>\n",
              "      <td>4</td>\n",
              "      <td>6</td>\n",
              "    </tr>\n",
              "    <tr>\n",
              "      <th>2</th>\n",
              "      <td>2</td>\n",
              "      <td>3</td>\n",
              "      <td>2</td>\n",
              "      <td>https://www.alternet.org/2021/03/rep-dan-crens...</td>\n",
              "      <td>Rep. Dan Crenshaw purchased stock during pande...</td>\n",
              "      <td>['Meaghan Ellis']</td>\n",
              "      <td>Rep. Dan Crenshaw's (R-Texas) stock purchase h...</td>\n",
              "      <td>['purchased', 'transactions', 'law', 'pandemic...</td>\n",
              "      <td>{'Religious right'}</td>\n",
              "      <td>-0.8949</td>\n",
              "      <td>0.082</td>\n",
              "      <td>0.860</td>\n",
              "      <td>0.058</td>\n",
              "      <td>0.011441</td>\n",
              "      <td>0.323766</td>\n",
              "      <td>left</td>\n",
              "      <td>0.231</td>\n",
              "      <td>0.769</td>\n",
              "      <td>0.000</td>\n",
              "      <td>-0.500000</td>\n",
              "      <td>0.300000</td>\n",
              "      <td>['Rep', \" Dan Crenshaw's (R-Texas) stock purch...</td>\n",
              "      <td>0</td>\n",
              "      <td>6</td>\n",
              "    </tr>\n",
              "    <tr>\n",
              "      <th>3</th>\n",
              "      <td>3</td>\n",
              "      <td>4</td>\n",
              "      <td>3</td>\n",
              "      <td>https://www.alternet.org/2020/11/dan-crenshaw/</td>\n",
              "      <td>Sen. Ed Markey applauded for silent dismissal ...</td>\n",
              "      <td>['Walter Einenkel', 'Daily Kos']</td>\n",
              "      <td>Sen. Ed Markey is the Massachusetts Democrat w...</td>\n",
              "      <td>['district', 'lame', 'markey', 'office', 'rep'...</td>\n",
              "      <td>{'Religious right'}</td>\n",
              "      <td>0.9289</td>\n",
              "      <td>0.071</td>\n",
              "      <td>0.811</td>\n",
              "      <td>0.118</td>\n",
              "      <td>0.081250</td>\n",
              "      <td>0.439912</td>\n",
              "      <td>left</td>\n",
              "      <td>0.304</td>\n",
              "      <td>0.567</td>\n",
              "      <td>0.129</td>\n",
              "      <td>-0.250000</td>\n",
              "      <td>0.425000</td>\n",
              "      <td>['Sen', ' Ed Markey is the Massachusetts Democ...</td>\n",
              "      <td>0</td>\n",
              "      <td>6</td>\n",
              "    </tr>\n",
              "    <tr>\n",
              "      <th>4</th>\n",
              "      <td>4</td>\n",
              "      <td>5</td>\n",
              "      <td>4</td>\n",
              "      <td>https://www.alternet.org/2019/05/rep-dan-crens...</td>\n",
              "      <td>Rep. Dan Crenshaw gets cornered on The View fo...</td>\n",
              "      <td>['Travis Gettys', 'Raw Story']</td>\n",
              "      <td>Rep. Dan Crenshaw (R-TX) appeared on “The View...</td>\n",
              "      <td>['words', 'view', 'offering', 'think', 'omar',...</td>\n",
              "      <td>{'Religious right'}</td>\n",
              "      <td>-0.4810</td>\n",
              "      <td>0.077</td>\n",
              "      <td>0.848</td>\n",
              "      <td>0.075</td>\n",
              "      <td>0.045094</td>\n",
              "      <td>0.453717</td>\n",
              "      <td>left</td>\n",
              "      <td>0.088</td>\n",
              "      <td>0.798</td>\n",
              "      <td>0.113</td>\n",
              "      <td>-0.191667</td>\n",
              "      <td>0.525000</td>\n",
              "      <td>['Rep', ' Dan Crenshaw (R-TX) appeared on “The...</td>\n",
              "      <td>2</td>\n",
              "      <td>2</td>\n",
              "    </tr>\n",
              "  </tbody>\n",
              "</table>\n",
              "</div>"
            ],
            "text/plain": [
              "   Unnamed: 0  Unnamed: 0.1  ...  leftc rightc\n",
              "0           0             1  ...      0     12\n",
              "1           1             2  ...      4      6\n",
              "2           2             3  ...      0      6\n",
              "3           3             4  ...      0      6\n",
              "4           4             5  ...      2      2\n",
              "\n",
              "[5 rows x 24 columns]"
            ]
          },
          "metadata": {
            "tags": []
          },
          "execution_count": 6
        }
      ]
    },
    {
      "cell_type": "code",
      "metadata": {
        "colab": {
          "base_uri": "https://localhost:8080/",
          "height": 660
        },
        "id": "wt4NtR6L3WIp",
        "outputId": "f8f1f589-f28d-4e02-b332-198b80575a0b"
      },
      "source": [
        "df.head()"
      ],
      "execution_count": null,
      "outputs": [
        {
          "output_type": "execute_result",
          "data": {
            "text/html": [
              "<div>\n",
              "<style scoped>\n",
              "    .dataframe tbody tr th:only-of-type {\n",
              "        vertical-align: middle;\n",
              "    }\n",
              "\n",
              "    .dataframe tbody tr th {\n",
              "        vertical-align: top;\n",
              "    }\n",
              "\n",
              "    .dataframe thead th {\n",
              "        text-align: right;\n",
              "    }\n",
              "</style>\n",
              "<table border=\"1\" class=\"dataframe\">\n",
              "  <thead>\n",
              "    <tr style=\"text-align: right;\">\n",
              "      <th></th>\n",
              "      <th>Unnamed: 0</th>\n",
              "      <th>Unnamed: 0.1</th>\n",
              "      <th>X</th>\n",
              "      <th>link</th>\n",
              "      <th>title</th>\n",
              "      <th>author</th>\n",
              "      <th>text</th>\n",
              "      <th>keywords</th>\n",
              "      <th>tags</th>\n",
              "      <th>compound</th>\n",
              "      <th>neg</th>\n",
              "      <th>neu</th>\n",
              "      <th>pos</th>\n",
              "      <th>polarity</th>\n",
              "      <th>subjectivity</th>\n",
              "      <th>bd</th>\n",
              "      <th>tneg</th>\n",
              "      <th>tneu</th>\n",
              "      <th>tpos</th>\n",
              "      <th>tsub</th>\n",
              "      <th>tpol</th>\n",
              "      <th>sent</th>\n",
              "      <th>leftc</th>\n",
              "      <th>rightc</th>\n",
              "    </tr>\n",
              "  </thead>\n",
              "  <tbody>\n",
              "    <tr>\n",
              "      <th>0</th>\n",
              "      <td>0</td>\n",
              "      <td>1</td>\n",
              "      <td>0</td>\n",
              "      <td>https://kindest.com/442355-defend-democracy-to...</td>\n",
              "      <td>Defend Democracy Today: Support Fearless, Insi...</td>\n",
              "      <td>[]</td>\n",
              "      <td>While the election has come and gone, the figh...</td>\n",
              "      <td>['reporting', 'come', 'today', 'access', 'chec...</td>\n",
              "      <td>set()</td>\n",
              "      <td>0.8612</td>\n",
              "      <td>0.063</td>\n",
              "      <td>0.819</td>\n",
              "      <td>0.118</td>\n",
              "      <td>0.165589</td>\n",
              "      <td>0.539782</td>\n",
              "      <td>left</td>\n",
              "      <td>0.000</td>\n",
              "      <td>0.472</td>\n",
              "      <td>0.528</td>\n",
              "      <td>0.000000</td>\n",
              "      <td>0.000000</td>\n",
              "      <td>['While the election has come and gone, the fi...</td>\n",
              "      <td>0</td>\n",
              "      <td>12</td>\n",
              "    </tr>\n",
              "    <tr>\n",
              "      <th>1</th>\n",
              "      <td>1</td>\n",
              "      <td>2</td>\n",
              "      <td>1</td>\n",
              "      <td>https://www.alternet.org/2021/03/dan-crenshaw/</td>\n",
              "      <td>Republican Dan Crenshaw goes down in flames du...</td>\n",
              "      <td>['Sarah K. Burris', 'Raw Story']</td>\n",
              "      <td>MSNBC host Mehdi Hasan went after Rep. Dan Cre...</td>\n",
              "      <td>['come', 'didnt', 'going', 'fox', 'biden', 'cr...</td>\n",
              "      <td>{'Religious right'}</td>\n",
              "      <td>0.6474</td>\n",
              "      <td>0.055</td>\n",
              "      <td>0.876</td>\n",
              "      <td>0.069</td>\n",
              "      <td>-0.034989</td>\n",
              "      <td>0.411162</td>\n",
              "      <td>left</td>\n",
              "      <td>0.000</td>\n",
              "      <td>1.000</td>\n",
              "      <td>0.000</td>\n",
              "      <td>-0.155556</td>\n",
              "      <td>0.288889</td>\n",
              "      <td>['MSNBC host Mehdi Hasan went after Rep', ' Da...</td>\n",
              "      <td>4</td>\n",
              "      <td>6</td>\n",
              "    </tr>\n",
              "    <tr>\n",
              "      <th>2</th>\n",
              "      <td>2</td>\n",
              "      <td>3</td>\n",
              "      <td>2</td>\n",
              "      <td>https://www.alternet.org/2021/03/rep-dan-crens...</td>\n",
              "      <td>Rep. Dan Crenshaw purchased stock during pande...</td>\n",
              "      <td>['Meaghan Ellis']</td>\n",
              "      <td>Rep. Dan Crenshaw's (R-Texas) stock purchase h...</td>\n",
              "      <td>['purchased', 'transactions', 'law', 'pandemic...</td>\n",
              "      <td>{'Religious right'}</td>\n",
              "      <td>-0.8949</td>\n",
              "      <td>0.082</td>\n",
              "      <td>0.860</td>\n",
              "      <td>0.058</td>\n",
              "      <td>0.011441</td>\n",
              "      <td>0.323766</td>\n",
              "      <td>left</td>\n",
              "      <td>0.231</td>\n",
              "      <td>0.769</td>\n",
              "      <td>0.000</td>\n",
              "      <td>-0.500000</td>\n",
              "      <td>0.300000</td>\n",
              "      <td>['Rep', \" Dan Crenshaw's (R-Texas) stock purch...</td>\n",
              "      <td>0</td>\n",
              "      <td>6</td>\n",
              "    </tr>\n",
              "    <tr>\n",
              "      <th>3</th>\n",
              "      <td>3</td>\n",
              "      <td>4</td>\n",
              "      <td>3</td>\n",
              "      <td>https://www.alternet.org/2020/11/dan-crenshaw/</td>\n",
              "      <td>Sen. Ed Markey applauded for silent dismissal ...</td>\n",
              "      <td>['Walter Einenkel', 'Daily Kos']</td>\n",
              "      <td>Sen. Ed Markey is the Massachusetts Democrat w...</td>\n",
              "      <td>['district', 'lame', 'markey', 'office', 'rep'...</td>\n",
              "      <td>{'Religious right'}</td>\n",
              "      <td>0.9289</td>\n",
              "      <td>0.071</td>\n",
              "      <td>0.811</td>\n",
              "      <td>0.118</td>\n",
              "      <td>0.081250</td>\n",
              "      <td>0.439912</td>\n",
              "      <td>left</td>\n",
              "      <td>0.304</td>\n",
              "      <td>0.567</td>\n",
              "      <td>0.129</td>\n",
              "      <td>-0.250000</td>\n",
              "      <td>0.425000</td>\n",
              "      <td>['Sen', ' Ed Markey is the Massachusetts Democ...</td>\n",
              "      <td>0</td>\n",
              "      <td>6</td>\n",
              "    </tr>\n",
              "    <tr>\n",
              "      <th>4</th>\n",
              "      <td>4</td>\n",
              "      <td>5</td>\n",
              "      <td>4</td>\n",
              "      <td>https://www.alternet.org/2019/05/rep-dan-crens...</td>\n",
              "      <td>Rep. Dan Crenshaw gets cornered on The View fo...</td>\n",
              "      <td>['Travis Gettys', 'Raw Story']</td>\n",
              "      <td>Rep. Dan Crenshaw (R-TX) appeared on “The View...</td>\n",
              "      <td>['words', 'view', 'offering', 'think', 'omar',...</td>\n",
              "      <td>{'Religious right'}</td>\n",
              "      <td>-0.4810</td>\n",
              "      <td>0.077</td>\n",
              "      <td>0.848</td>\n",
              "      <td>0.075</td>\n",
              "      <td>0.045094</td>\n",
              "      <td>0.453717</td>\n",
              "      <td>left</td>\n",
              "      <td>0.088</td>\n",
              "      <td>0.798</td>\n",
              "      <td>0.113</td>\n",
              "      <td>-0.191667</td>\n",
              "      <td>0.525000</td>\n",
              "      <td>['Rep', ' Dan Crenshaw (R-TX) appeared on “The...</td>\n",
              "      <td>2</td>\n",
              "      <td>2</td>\n",
              "    </tr>\n",
              "  </tbody>\n",
              "</table>\n",
              "</div>"
            ],
            "text/plain": [
              "   Unnamed: 0  Unnamed: 0.1  ...  leftc rightc\n",
              "0           0             1  ...      0     12\n",
              "1           1             2  ...      4      6\n",
              "2           2             3  ...      0      6\n",
              "3           3             4  ...      0      6\n",
              "4           4             5  ...      2      2\n",
              "\n",
              "[5 rows x 24 columns]"
            ]
          },
          "metadata": {
            "tags": []
          },
          "execution_count": 7
        }
      ]
    },
    {
      "cell_type": "code",
      "metadata": {
        "colab": {
          "base_uri": "https://localhost:8080/"
        },
        "id": "J1TCd2zrAUwI",
        "outputId": "b9285a44-9b15-4be5-e280-18f7c5122628"
      },
      "source": [
        "import pandas as pd\n",
        "#Run Libraries\n",
        "!pip install nltk\n",
        "!pip install newspaper3k\n",
        "from newspaper import Article\n",
        "import newspaper\n",
        "from textblob import TextBlob\n",
        "import nltk\n",
        "nltk.download('vader_lexicon')\n",
        "nltk.download('punkt')\n",
        "from textblob import TextBlob\n",
        "from nltk.sentiment import SentimentIntensityAnalyzer\n",
        "sia = SentimentIntensityAnalyzer()"
      ],
      "execution_count": null,
      "outputs": [
        {
          "output_type": "stream",
          "text": [
            "Requirement already satisfied: nltk in /usr/local/lib/python3.7/dist-packages (3.2.5)\n",
            "Requirement already satisfied: six in /usr/local/lib/python3.7/dist-packages (from nltk) (1.15.0)\n",
            "Requirement already satisfied: newspaper3k in /usr/local/lib/python3.7/dist-packages (0.2.8)\n",
            "Requirement already satisfied: PyYAML>=3.11 in /usr/local/lib/python3.7/dist-packages (from newspaper3k) (3.13)\n",
            "Requirement already satisfied: cssselect>=0.9.2 in /usr/local/lib/python3.7/dist-packages (from newspaper3k) (1.1.0)\n",
            "Requirement already satisfied: Pillow>=3.3.0 in /usr/local/lib/python3.7/dist-packages (from newspaper3k) (7.1.2)\n",
            "Requirement already satisfied: lxml>=3.6.0 in /usr/local/lib/python3.7/dist-packages (from newspaper3k) (4.2.6)\n",
            "Requirement already satisfied: nltk>=3.2.1 in /usr/local/lib/python3.7/dist-packages (from newspaper3k) (3.2.5)\n",
            "Requirement already satisfied: tinysegmenter==0.3 in /usr/local/lib/python3.7/dist-packages (from newspaper3k) (0.3)\n",
            "Requirement already satisfied: python-dateutil>=2.5.3 in /usr/local/lib/python3.7/dist-packages (from newspaper3k) (2.8.1)\n",
            "Requirement already satisfied: jieba3k>=0.35.1 in /usr/local/lib/python3.7/dist-packages (from newspaper3k) (0.35.1)\n",
            "Requirement already satisfied: beautifulsoup4>=4.4.1 in /usr/local/lib/python3.7/dist-packages (from newspaper3k) (4.6.3)\n",
            "Requirement already satisfied: feedfinder2>=0.0.4 in /usr/local/lib/python3.7/dist-packages (from newspaper3k) (0.0.4)\n",
            "Requirement already satisfied: requests>=2.10.0 in /usr/local/lib/python3.7/dist-packages (from newspaper3k) (2.23.0)\n",
            "Requirement already satisfied: feedparser>=5.2.1 in /usr/local/lib/python3.7/dist-packages (from newspaper3k) (6.0.2)\n",
            "Requirement already satisfied: tldextract>=2.0.1 in /usr/local/lib/python3.7/dist-packages (from newspaper3k) (3.1.0)\n",
            "Requirement already satisfied: six in /usr/local/lib/python3.7/dist-packages (from nltk>=3.2.1->newspaper3k) (1.15.0)\n",
            "Requirement already satisfied: chardet<4,>=3.0.2 in /usr/local/lib/python3.7/dist-packages (from requests>=2.10.0->newspaper3k) (3.0.4)\n",
            "Requirement already satisfied: certifi>=2017.4.17 in /usr/local/lib/python3.7/dist-packages (from requests>=2.10.0->newspaper3k) (2020.12.5)\n",
            "Requirement already satisfied: idna<3,>=2.5 in /usr/local/lib/python3.7/dist-packages (from requests>=2.10.0->newspaper3k) (2.10)\n",
            "Requirement already satisfied: urllib3!=1.25.0,!=1.25.1,<1.26,>=1.21.1 in /usr/local/lib/python3.7/dist-packages (from requests>=2.10.0->newspaper3k) (1.24.3)\n",
            "Requirement already satisfied: sgmllib3k in /usr/local/lib/python3.7/dist-packages (from feedparser>=5.2.1->newspaper3k) (1.0.0)\n",
            "Requirement already satisfied: filelock>=3.0.8 in /usr/local/lib/python3.7/dist-packages (from tldextract>=2.0.1->newspaper3k) (3.0.12)\n",
            "Requirement already satisfied: requests-file>=1.4 in /usr/local/lib/python3.7/dist-packages (from tldextract>=2.0.1->newspaper3k) (1.5.1)\n",
            "[nltk_data] Downloading package vader_lexicon to /root/nltk_data...\n",
            "[nltk_data]   Package vader_lexicon is already up-to-date!\n",
            "[nltk_data] Downloading package punkt to /root/nltk_data...\n",
            "[nltk_data]   Package punkt is already up-to-date!\n"
          ],
          "name": "stdout"
        },
        {
          "output_type": "stream",
          "text": [
            "/usr/local/lib/python3.7/dist-packages/nltk/twitter/__init__.py:20: UserWarning: The twython library has not been installed. Some functionality from the twitter package will not be available.\n",
            "  warnings.warn(\"The twython library has not been installed. \"\n"
          ],
          "name": "stderr"
        }
      ]
    },
    {
      "cell_type": "code",
      "metadata": {
        "colab": {
          "base_uri": "https://localhost:8080/",
          "height": 332
        },
        "id": "fZSejrOiIr7y",
        "outputId": "4a8589bd-4c1e-4016-b561-b34b9616ce28"
      },
      "source": [
        "df.describe()"
      ],
      "execution_count": null,
      "outputs": [
        {
          "output_type": "execute_result",
          "data": {
            "text/html": [
              "<div>\n",
              "<style scoped>\n",
              "    .dataframe tbody tr th:only-of-type {\n",
              "        vertical-align: middle;\n",
              "    }\n",
              "\n",
              "    .dataframe tbody tr th {\n",
              "        vertical-align: top;\n",
              "    }\n",
              "\n",
              "    .dataframe thead th {\n",
              "        text-align: right;\n",
              "    }\n",
              "</style>\n",
              "<table border=\"1\" class=\"dataframe\">\n",
              "  <thead>\n",
              "    <tr style=\"text-align: right;\">\n",
              "      <th></th>\n",
              "      <th>Unnamed: 0</th>\n",
              "      <th>Unnamed: 0.1</th>\n",
              "      <th>X</th>\n",
              "      <th>compound</th>\n",
              "      <th>neg</th>\n",
              "      <th>neu</th>\n",
              "      <th>pos</th>\n",
              "      <th>polarity</th>\n",
              "      <th>subjectivity</th>\n",
              "      <th>tneg</th>\n",
              "      <th>tneu</th>\n",
              "      <th>tpos</th>\n",
              "      <th>tsub</th>\n",
              "      <th>tpol</th>\n",
              "      <th>leftc</th>\n",
              "      <th>rightc</th>\n",
              "    </tr>\n",
              "  </thead>\n",
              "  <tbody>\n",
              "    <tr>\n",
              "      <th>count</th>\n",
              "      <td>4221.000000</td>\n",
              "      <td>4221.000000</td>\n",
              "      <td>4221.000000</td>\n",
              "      <td>4221.000000</td>\n",
              "      <td>4221.000000</td>\n",
              "      <td>4221.000000</td>\n",
              "      <td>4221.00000</td>\n",
              "      <td>4221.000000</td>\n",
              "      <td>4221.000000</td>\n",
              "      <td>4221.000000</td>\n",
              "      <td>4221.000000</td>\n",
              "      <td>4221.000000</td>\n",
              "      <td>4221.000000</td>\n",
              "      <td>4221.000000</td>\n",
              "      <td>4221.000000</td>\n",
              "      <td>4221.000000</td>\n",
              "    </tr>\n",
              "    <tr>\n",
              "      <th>mean</th>\n",
              "      <td>2110.000000</td>\n",
              "      <td>2111.000000</td>\n",
              "      <td>1076.143094</td>\n",
              "      <td>0.186628</td>\n",
              "      <td>0.068364</td>\n",
              "      <td>0.773186</td>\n",
              "      <td>0.08501</td>\n",
              "      <td>0.078327</td>\n",
              "      <td>0.387728</td>\n",
              "      <td>0.118299</td>\n",
              "      <td>0.801440</td>\n",
              "      <td>0.080263</td>\n",
              "      <td>0.029468</td>\n",
              "      <td>0.238767</td>\n",
              "      <td>4.111585</td>\n",
              "      <td>2.280028</td>\n",
              "    </tr>\n",
              "    <tr>\n",
              "      <th>std</th>\n",
              "      <td>1218.642072</td>\n",
              "      <td>1218.642072</td>\n",
              "      <td>644.961327</td>\n",
              "      <td>0.832206</td>\n",
              "      <td>0.049356</td>\n",
              "      <td>0.224446</td>\n",
              "      <td>0.05015</td>\n",
              "      <td>0.098404</td>\n",
              "      <td>0.145262</td>\n",
              "      <td>0.158471</td>\n",
              "      <td>0.186182</td>\n",
              "      <td>0.132614</td>\n",
              "      <td>0.251013</td>\n",
              "      <td>0.305852</td>\n",
              "      <td>8.191465</td>\n",
              "      <td>8.744274</td>\n",
              "    </tr>\n",
              "    <tr>\n",
              "      <th>min</th>\n",
              "      <td>0.000000</td>\n",
              "      <td>1.000000</td>\n",
              "      <td>0.000000</td>\n",
              "      <td>-1.000000</td>\n",
              "      <td>0.000000</td>\n",
              "      <td>0.000000</td>\n",
              "      <td>0.00000</td>\n",
              "      <td>-0.408333</td>\n",
              "      <td>0.000000</td>\n",
              "      <td>0.000000</td>\n",
              "      <td>0.000000</td>\n",
              "      <td>0.000000</td>\n",
              "      <td>-1.000000</td>\n",
              "      <td>0.000000</td>\n",
              "      <td>-10.000000</td>\n",
              "      <td>-125.000000</td>\n",
              "    </tr>\n",
              "    <tr>\n",
              "      <th>25%</th>\n",
              "      <td>1055.000000</td>\n",
              "      <td>1056.000000</td>\n",
              "      <td>527.000000</td>\n",
              "      <td>-0.872000</td>\n",
              "      <td>0.035000</td>\n",
              "      <td>0.787000</td>\n",
              "      <td>0.05400</td>\n",
              "      <td>0.018146</td>\n",
              "      <td>0.355111</td>\n",
              "      <td>0.000000</td>\n",
              "      <td>0.667000</td>\n",
              "      <td>0.000000</td>\n",
              "      <td>0.000000</td>\n",
              "      <td>0.000000</td>\n",
              "      <td>0.000000</td>\n",
              "      <td>0.000000</td>\n",
              "    </tr>\n",
              "    <tr>\n",
              "      <th>50%</th>\n",
              "      <td>2110.000000</td>\n",
              "      <td>2111.000000</td>\n",
              "      <td>1055.000000</td>\n",
              "      <td>0.599400</td>\n",
              "      <td>0.065000</td>\n",
              "      <td>0.832000</td>\n",
              "      <td>0.08300</td>\n",
              "      <td>0.075973</td>\n",
              "      <td>0.414695</td>\n",
              "      <td>0.000000</td>\n",
              "      <td>0.804000</td>\n",
              "      <td>0.000000</td>\n",
              "      <td>0.000000</td>\n",
              "      <td>0.000000</td>\n",
              "      <td>2.000000</td>\n",
              "      <td>0.000000</td>\n",
              "    </tr>\n",
              "    <tr>\n",
              "      <th>75%</th>\n",
              "      <td>3165.000000</td>\n",
              "      <td>3166.000000</td>\n",
              "      <td>1582.000000</td>\n",
              "      <td>0.979900</td>\n",
              "      <td>0.095000</td>\n",
              "      <td>0.869000</td>\n",
              "      <td>0.11500</td>\n",
              "      <td>0.125000</td>\n",
              "      <td>0.465000</td>\n",
              "      <td>0.227000</td>\n",
              "      <td>1.000000</td>\n",
              "      <td>0.157000</td>\n",
              "      <td>0.045455</td>\n",
              "      <td>0.454545</td>\n",
              "      <td>4.000000</td>\n",
              "      <td>4.000000</td>\n",
              "    </tr>\n",
              "    <tr>\n",
              "      <th>max</th>\n",
              "      <td>4220.000000</td>\n",
              "      <td>4221.000000</td>\n",
              "      <td>2410.000000</td>\n",
              "      <td>1.000000</td>\n",
              "      <td>0.404000</td>\n",
              "      <td>1.000000</td>\n",
              "      <td>0.44800</td>\n",
              "      <td>1.000000</td>\n",
              "      <td>1.000000</td>\n",
              "      <td>1.000000</td>\n",
              "      <td>1.000000</td>\n",
              "      <td>1.000000</td>\n",
              "      <td>1.000000</td>\n",
              "      <td>1.000000</td>\n",
              "      <td>103.000000</td>\n",
              "      <td>117.000000</td>\n",
              "    </tr>\n",
              "  </tbody>\n",
              "</table>\n",
              "</div>"
            ],
            "text/plain": [
              "        Unnamed: 0  Unnamed: 0.1  ...        leftc       rightc\n",
              "count  4221.000000   4221.000000  ...  4221.000000  4221.000000\n",
              "mean   2110.000000   2111.000000  ...     4.111585     2.280028\n",
              "std    1218.642072   1218.642072  ...     8.191465     8.744274\n",
              "min       0.000000      1.000000  ...   -10.000000  -125.000000\n",
              "25%    1055.000000   1056.000000  ...     0.000000     0.000000\n",
              "50%    2110.000000   2111.000000  ...     2.000000     0.000000\n",
              "75%    3165.000000   3166.000000  ...     4.000000     4.000000\n",
              "max    4220.000000   4221.000000  ...   103.000000   117.000000\n",
              "\n",
              "[8 rows x 16 columns]"
            ]
          },
          "metadata": {
            "tags": []
          },
          "execution_count": 8
        }
      ]
    },
    {
      "cell_type": "code",
      "metadata": {
        "colab": {
          "base_uri": "https://localhost:8080/",
          "height": 582
        },
        "id": "BORrdC0iPT6Q",
        "outputId": "aa0f9299-f1d2-4fe9-869d-dd83662f5ccd"
      },
      "source": [
        "df.head()"
      ],
      "execution_count": null,
      "outputs": [
        {
          "output_type": "execute_result",
          "data": {
            "text/html": [
              "<div>\n",
              "<style scoped>\n",
              "    .dataframe tbody tr th:only-of-type {\n",
              "        vertical-align: middle;\n",
              "    }\n",
              "\n",
              "    .dataframe tbody tr th {\n",
              "        vertical-align: top;\n",
              "    }\n",
              "\n",
              "    .dataframe thead th {\n",
              "        text-align: right;\n",
              "    }\n",
              "</style>\n",
              "<table border=\"1\" class=\"dataframe\">\n",
              "  <thead>\n",
              "    <tr style=\"text-align: right;\">\n",
              "      <th></th>\n",
              "      <th>Unnamed: 0</th>\n",
              "      <th>X</th>\n",
              "      <th>link</th>\n",
              "      <th>pdate</th>\n",
              "      <th>title</th>\n",
              "      <th>author</th>\n",
              "      <th>text</th>\n",
              "      <th>keywords</th>\n",
              "      <th>tags</th>\n",
              "      <th>compound</th>\n",
              "      <th>neg</th>\n",
              "      <th>neu</th>\n",
              "      <th>pos</th>\n",
              "      <th>polarity</th>\n",
              "      <th>subjectivity</th>\n",
              "      <th>bd</th>\n",
              "    </tr>\n",
              "  </thead>\n",
              "  <tbody>\n",
              "    <tr>\n",
              "      <th>0</th>\n",
              "      <td>1</td>\n",
              "      <td>0</td>\n",
              "      <td>https://kindest.com/442355-defend-democracy-to...</td>\n",
              "      <td>NaN</td>\n",
              "      <td>Defend Democracy Today: Support Fearless, Insi...</td>\n",
              "      <td>[]</td>\n",
              "      <td>While the election has come and gone, the figh...</td>\n",
              "      <td>['reporting', 'come', 'today', 'access', 'chec...</td>\n",
              "      <td>set()</td>\n",
              "      <td>0.8612</td>\n",
              "      <td>0.063</td>\n",
              "      <td>0.819</td>\n",
              "      <td>0.118</td>\n",
              "      <td>0.165589</td>\n",
              "      <td>0.539782</td>\n",
              "      <td>left</td>\n",
              "    </tr>\n",
              "    <tr>\n",
              "      <th>1</th>\n",
              "      <td>2</td>\n",
              "      <td>1</td>\n",
              "      <td>https://www.alternet.org/2021/03/dan-crenshaw/</td>\n",
              "      <td>2021-03-22 10:17:36+00:00</td>\n",
              "      <td>Republican Dan Crenshaw goes down in flames du...</td>\n",
              "      <td>['Sarah K. Burris', 'Raw Story']</td>\n",
              "      <td>MSNBC host Mehdi Hasan went after Rep. Dan Cre...</td>\n",
              "      <td>['come', 'didnt', 'going', 'fox', 'biden', 'cr...</td>\n",
              "      <td>{'Religious right'}</td>\n",
              "      <td>0.6474</td>\n",
              "      <td>0.055</td>\n",
              "      <td>0.876</td>\n",
              "      <td>0.069</td>\n",
              "      <td>-0.034989</td>\n",
              "      <td>0.411162</td>\n",
              "      <td>left</td>\n",
              "    </tr>\n",
              "    <tr>\n",
              "      <th>2</th>\n",
              "      <td>3</td>\n",
              "      <td>2</td>\n",
              "      <td>https://www.alternet.org/2021/03/rep-dan-crens...</td>\n",
              "      <td>2021-03-09 13:32:36+00:00</td>\n",
              "      <td>Rep. Dan Crenshaw purchased stock during pande...</td>\n",
              "      <td>['Meaghan Ellis']</td>\n",
              "      <td>Rep. Dan Crenshaw's (R-Texas) stock purchase h...</td>\n",
              "      <td>['purchased', 'transactions', 'law', 'pandemic...</td>\n",
              "      <td>{'Religious right'}</td>\n",
              "      <td>-0.8949</td>\n",
              "      <td>0.082</td>\n",
              "      <td>0.860</td>\n",
              "      <td>0.058</td>\n",
              "      <td>0.011441</td>\n",
              "      <td>0.323766</td>\n",
              "      <td>left</td>\n",
              "    </tr>\n",
              "    <tr>\n",
              "      <th>3</th>\n",
              "      <td>4</td>\n",
              "      <td>3</td>\n",
              "      <td>https://www.alternet.org/2020/11/dan-crenshaw/</td>\n",
              "      <td>2020-11-23 12:14:56+00:00</td>\n",
              "      <td>Sen. Ed Markey applauded for silent dismissal ...</td>\n",
              "      <td>['Walter Einenkel', 'Daily Kos']</td>\n",
              "      <td>Sen. Ed Markey is the Massachusetts Democrat w...</td>\n",
              "      <td>['district', 'lame', 'markey', 'office', 'rep'...</td>\n",
              "      <td>{'Religious right'}</td>\n",
              "      <td>0.9289</td>\n",
              "      <td>0.071</td>\n",
              "      <td>0.811</td>\n",
              "      <td>0.118</td>\n",
              "      <td>0.081250</td>\n",
              "      <td>0.439912</td>\n",
              "      <td>left</td>\n",
              "    </tr>\n",
              "    <tr>\n",
              "      <th>4</th>\n",
              "      <td>5</td>\n",
              "      <td>4</td>\n",
              "      <td>https://www.alternet.org/2019/05/rep-dan-crens...</td>\n",
              "      <td>2019-05-06 17:40:27+00:00</td>\n",
              "      <td>Rep. Dan Crenshaw gets cornered on The View fo...</td>\n",
              "      <td>['Travis Gettys', 'Raw Story']</td>\n",
              "      <td>Rep. Dan Crenshaw (R-TX) appeared on “The View...</td>\n",
              "      <td>['words', 'view', 'offering', 'think', 'omar',...</td>\n",
              "      <td>{'Religious right'}</td>\n",
              "      <td>-0.4810</td>\n",
              "      <td>0.077</td>\n",
              "      <td>0.848</td>\n",
              "      <td>0.075</td>\n",
              "      <td>0.045094</td>\n",
              "      <td>0.453717</td>\n",
              "      <td>left</td>\n",
              "    </tr>\n",
              "  </tbody>\n",
              "</table>\n",
              "</div>"
            ],
            "text/plain": [
              "   Unnamed: 0  X  ... subjectivity    bd\n",
              "0           1  0  ...     0.539782  left\n",
              "1           2  1  ...     0.411162  left\n",
              "2           3  2  ...     0.323766  left\n",
              "3           4  3  ...     0.439912  left\n",
              "4           5  4  ...     0.453717  left\n",
              "\n",
              "[5 rows x 16 columns]"
            ]
          },
          "metadata": {
            "tags": []
          },
          "execution_count": 13
        }
      ]
    },
    {
      "cell_type": "code",
      "metadata": {
        "id": "3PKHD9sP-zJu"
      },
      "source": [
        "# Dataset to work on\n",
        "dm=df\n",
        "dm = dm.drop(['pdate'], axis = 1)"
      ],
      "execution_count": null,
      "outputs": []
    },
    {
      "cell_type": "code",
      "metadata": {
        "id": "233fCw55HT6Q"
      },
      "source": [
        "# sentiment analysis of title\n",
        "tneg=[]\n",
        "tneu=[]\n",
        "tpos=[]\n",
        "tsub=[]\n",
        "tpol=[]\n",
        "for title in dm[\"title\"]:\n",
        "  v=sia.polarity_scores(title)\n",
        "  tneg.append(v[\"neg\"])\n",
        "  tneu.append(v[\"neu\"])\n",
        "  tpos.append(v[\"pos\"])\n",
        "  testimonial = TextBlob(title)\n",
        "  tsub.append(testimonial.sentiment.polarity)\n",
        "  tpol.append(testimonial.sentiment.subjectivity)\n"
      ],
      "execution_count": null,
      "outputs": []
    },
    {
      "cell_type": "code",
      "metadata": {
        "id": "5UniiOE5FhLq"
      },
      "source": [
        "# entering into the dataset\n",
        "dm['tneg'] = tneg\n",
        "dm['tneu'] = tneu\n",
        "dm['tpos'] = tpos\n",
        "dm['tsub'] = tsub\n",
        "dm['tpol'] = tpol"
      ],
      "execution_count": null,
      "outputs": []
    },
    {
      "cell_type": "code",
      "metadata": {
        "colab": {
          "base_uri": "https://localhost:8080/",
          "height": 652
        },
        "id": "dr5X2bFWFl35",
        "outputId": "40d839bd-c6eb-470a-d714-86da5d2d3b6d"
      },
      "source": [
        "dm.head()"
      ],
      "execution_count": null,
      "outputs": [
        {
          "output_type": "execute_result",
          "data": {
            "text/html": [
              "<div>\n",
              "<style scoped>\n",
              "    .dataframe tbody tr th:only-of-type {\n",
              "        vertical-align: middle;\n",
              "    }\n",
              "\n",
              "    .dataframe tbody tr th {\n",
              "        vertical-align: top;\n",
              "    }\n",
              "\n",
              "    .dataframe thead th {\n",
              "        text-align: right;\n",
              "    }\n",
              "</style>\n",
              "<table border=\"1\" class=\"dataframe\">\n",
              "  <thead>\n",
              "    <tr style=\"text-align: right;\">\n",
              "      <th></th>\n",
              "      <th>Unnamed: 0</th>\n",
              "      <th>X</th>\n",
              "      <th>link</th>\n",
              "      <th>title</th>\n",
              "      <th>author</th>\n",
              "      <th>text</th>\n",
              "      <th>keywords</th>\n",
              "      <th>tags</th>\n",
              "      <th>compound</th>\n",
              "      <th>neg</th>\n",
              "      <th>neu</th>\n",
              "      <th>pos</th>\n",
              "      <th>polarity</th>\n",
              "      <th>subjectivity</th>\n",
              "      <th>bd</th>\n",
              "      <th>tneg</th>\n",
              "      <th>tneu</th>\n",
              "      <th>tpos</th>\n",
              "      <th>tsub</th>\n",
              "      <th>tpol</th>\n",
              "    </tr>\n",
              "  </thead>\n",
              "  <tbody>\n",
              "    <tr>\n",
              "      <th>0</th>\n",
              "      <td>1</td>\n",
              "      <td>0</td>\n",
              "      <td>https://kindest.com/442355-defend-democracy-to...</td>\n",
              "      <td>Defend Democracy Today: Support Fearless, Insi...</td>\n",
              "      <td>[]</td>\n",
              "      <td>While the election has come and gone, the figh...</td>\n",
              "      <td>['reporting', 'come', 'today', 'access', 'chec...</td>\n",
              "      <td>set()</td>\n",
              "      <td>0.8612</td>\n",
              "      <td>0.063</td>\n",
              "      <td>0.819</td>\n",
              "      <td>0.118</td>\n",
              "      <td>0.165589</td>\n",
              "      <td>0.539782</td>\n",
              "      <td>left</td>\n",
              "      <td>0.000</td>\n",
              "      <td>0.472</td>\n",
              "      <td>0.528</td>\n",
              "      <td>0.000000</td>\n",
              "      <td>0.000000</td>\n",
              "    </tr>\n",
              "    <tr>\n",
              "      <th>1</th>\n",
              "      <td>2</td>\n",
              "      <td>1</td>\n",
              "      <td>https://www.alternet.org/2021/03/dan-crenshaw/</td>\n",
              "      <td>Republican Dan Crenshaw goes down in flames du...</td>\n",
              "      <td>['Sarah K. Burris', 'Raw Story']</td>\n",
              "      <td>MSNBC host Mehdi Hasan went after Rep. Dan Cre...</td>\n",
              "      <td>['come', 'didnt', 'going', 'fox', 'biden', 'cr...</td>\n",
              "      <td>{'Religious right'}</td>\n",
              "      <td>0.6474</td>\n",
              "      <td>0.055</td>\n",
              "      <td>0.876</td>\n",
              "      <td>0.069</td>\n",
              "      <td>-0.034989</td>\n",
              "      <td>0.411162</td>\n",
              "      <td>left</td>\n",
              "      <td>0.000</td>\n",
              "      <td>1.000</td>\n",
              "      <td>0.000</td>\n",
              "      <td>-0.155556</td>\n",
              "      <td>0.288889</td>\n",
              "    </tr>\n",
              "    <tr>\n",
              "      <th>2</th>\n",
              "      <td>3</td>\n",
              "      <td>2</td>\n",
              "      <td>https://www.alternet.org/2021/03/rep-dan-crens...</td>\n",
              "      <td>Rep. Dan Crenshaw purchased stock during pande...</td>\n",
              "      <td>['Meaghan Ellis']</td>\n",
              "      <td>Rep. Dan Crenshaw's (R-Texas) stock purchase h...</td>\n",
              "      <td>['purchased', 'transactions', 'law', 'pandemic...</td>\n",
              "      <td>{'Religious right'}</td>\n",
              "      <td>-0.8949</td>\n",
              "      <td>0.082</td>\n",
              "      <td>0.860</td>\n",
              "      <td>0.058</td>\n",
              "      <td>0.011441</td>\n",
              "      <td>0.323766</td>\n",
              "      <td>left</td>\n",
              "      <td>0.231</td>\n",
              "      <td>0.769</td>\n",
              "      <td>0.000</td>\n",
              "      <td>-0.500000</td>\n",
              "      <td>0.300000</td>\n",
              "    </tr>\n",
              "    <tr>\n",
              "      <th>3</th>\n",
              "      <td>4</td>\n",
              "      <td>3</td>\n",
              "      <td>https://www.alternet.org/2020/11/dan-crenshaw/</td>\n",
              "      <td>Sen. Ed Markey applauded for silent dismissal ...</td>\n",
              "      <td>['Walter Einenkel', 'Daily Kos']</td>\n",
              "      <td>Sen. Ed Markey is the Massachusetts Democrat w...</td>\n",
              "      <td>['district', 'lame', 'markey', 'office', 'rep'...</td>\n",
              "      <td>{'Religious right'}</td>\n",
              "      <td>0.9289</td>\n",
              "      <td>0.071</td>\n",
              "      <td>0.811</td>\n",
              "      <td>0.118</td>\n",
              "      <td>0.081250</td>\n",
              "      <td>0.439912</td>\n",
              "      <td>left</td>\n",
              "      <td>0.304</td>\n",
              "      <td>0.567</td>\n",
              "      <td>0.129</td>\n",
              "      <td>-0.250000</td>\n",
              "      <td>0.425000</td>\n",
              "    </tr>\n",
              "    <tr>\n",
              "      <th>4</th>\n",
              "      <td>5</td>\n",
              "      <td>4</td>\n",
              "      <td>https://www.alternet.org/2019/05/rep-dan-crens...</td>\n",
              "      <td>Rep. Dan Crenshaw gets cornered on The View fo...</td>\n",
              "      <td>['Travis Gettys', 'Raw Story']</td>\n",
              "      <td>Rep. Dan Crenshaw (R-TX) appeared on “The View...</td>\n",
              "      <td>['words', 'view', 'offering', 'think', 'omar',...</td>\n",
              "      <td>{'Religious right'}</td>\n",
              "      <td>-0.4810</td>\n",
              "      <td>0.077</td>\n",
              "      <td>0.848</td>\n",
              "      <td>0.075</td>\n",
              "      <td>0.045094</td>\n",
              "      <td>0.453717</td>\n",
              "      <td>left</td>\n",
              "      <td>0.088</td>\n",
              "      <td>0.798</td>\n",
              "      <td>0.113</td>\n",
              "      <td>-0.191667</td>\n",
              "      <td>0.525000</td>\n",
              "    </tr>\n",
              "  </tbody>\n",
              "</table>\n",
              "</div>"
            ],
            "text/plain": [
              "   Unnamed: 0  X  ...      tsub      tpol\n",
              "0           1  0  ...  0.000000  0.000000\n",
              "1           2  1  ... -0.155556  0.288889\n",
              "2           3  2  ... -0.500000  0.300000\n",
              "3           4  3  ... -0.250000  0.425000\n",
              "4           5  4  ... -0.191667  0.525000\n",
              "\n",
              "[5 rows x 20 columns]"
            ]
          },
          "metadata": {
            "tags": []
          },
          "execution_count": 17
        }
      ]
    },
    {
      "cell_type": "code",
      "metadata": {
        "id": "kwavQR85byZX"
      },
      "source": [
        "# Converting text into string\n",
        "dm['text'] = dm['text'].astype(str)"
      ],
      "execution_count": null,
      "outputs": []
    },
    {
      "cell_type": "markdown",
      "metadata": {
        "id": "oFtmKSENdtqc"
      },
      "source": [
        "## Rated column"
      ]
    },
    {
      "cell_type": "code",
      "metadata": {
        "id": "na_rJhrGNVIJ"
      },
      "source": [
        "# keyword list\n",
        "lib=[\"biden\",\"joe biden\",\"refugees\",\"bidens\",\"senate\",\"tax\",\"taxes\",\"migrants\",\"democrats\",\"hiliary\",\"clinton\",\"impeachment\",\"troll\",\"moron\",\"shill\",\"hack\",\"fool\",\"crony\",\"elitist\",\"billionaire\",\"commie\",\"china\",\"green\",\"deforestation\",\"sustainable\",\"fauci\",\"vaccinate\",\"gop\",\"minority\",\"voting\",\"darpa\",\"right\",\"african\",\"asylum\",\"immigration\",\"guatemala\",\"obama\",\"obamas\",\"greta\",\"environment\",\"Ilhan Omar\"]\n",
        "con=[\"trump\",\"donald trump\",\"border\",\"qanon\",\"oil\",\"coal\",\"pandemic\",\"republicans\",\"pence\",\"mike pence\",\"russiagate\",\"gerrymandering\",\"putin\",\"russia\",\"maralago\",\"white\",\"evangelicals\",\"christian\",\"israel\",\"bible\",\"relegion\",\"extremist\",\"coward\",\"obstructionist\",\"zealot\",\"cults\",\"oilandgas\",\"fox\",\"war\",\"left\",\"libtard\",\"mask\",\"covid19\",\"netanyahu\",\"kushner\",\"idealogue\",\"extremist\",\"thug\",\"rep\",\"deport\",\"mexico\",\"nationalist\"]"
      ],
      "execution_count": null,
      "outputs": []
    },
    {
      "cell_type": "code",
      "metadata": {
        "id": "eNG2QuZQ-Ou4"
      },
      "source": [
        "# Removing punctuation and separating into sentences\n",
        "#sent=[]\n",
        "#remove = [\",\",\";\",\"'s\", \"@\", \"&\",\"*\",\"(\",\")\",\"#\",\"!\",\"%\",\"=\",\"+\",\"-\",\"_\",\":\", '\"',\"'\",\"\\r\",\"\\n\",\"\\r\\n\\r\\n\"]\n",
        "#for tt in dm['text']:\n",
        "#  dm['text']=dm['text'].replace(remove,\"\")\n",
        "dm['sent']=dm['text'].str.split(\".\")\n"
      ],
      "execution_count": null,
      "outputs": []
    },
    {
      "cell_type": "code",
      "metadata": {
        "colab": {
          "base_uri": "https://localhost:8080/",
          "height": 652
        },
        "id": "cTGGA0WIfA70",
        "outputId": "4bd28abc-ee01-47ea-c574-e7e57d8cb808"
      },
      "source": [
        "dm.head()"
      ],
      "execution_count": null,
      "outputs": [
        {
          "output_type": "execute_result",
          "data": {
            "text/html": [
              "<div>\n",
              "<style scoped>\n",
              "    .dataframe tbody tr th:only-of-type {\n",
              "        vertical-align: middle;\n",
              "    }\n",
              "\n",
              "    .dataframe tbody tr th {\n",
              "        vertical-align: top;\n",
              "    }\n",
              "\n",
              "    .dataframe thead th {\n",
              "        text-align: right;\n",
              "    }\n",
              "</style>\n",
              "<table border=\"1\" class=\"dataframe\">\n",
              "  <thead>\n",
              "    <tr style=\"text-align: right;\">\n",
              "      <th></th>\n",
              "      <th>Unnamed: 0</th>\n",
              "      <th>X</th>\n",
              "      <th>link</th>\n",
              "      <th>title</th>\n",
              "      <th>author</th>\n",
              "      <th>text</th>\n",
              "      <th>keywords</th>\n",
              "      <th>tags</th>\n",
              "      <th>compound</th>\n",
              "      <th>neg</th>\n",
              "      <th>neu</th>\n",
              "      <th>pos</th>\n",
              "      <th>polarity</th>\n",
              "      <th>subjectivity</th>\n",
              "      <th>bd</th>\n",
              "      <th>tneg</th>\n",
              "      <th>tneu</th>\n",
              "      <th>tpos</th>\n",
              "      <th>tsub</th>\n",
              "      <th>tpol</th>\n",
              "      <th>sent</th>\n",
              "    </tr>\n",
              "  </thead>\n",
              "  <tbody>\n",
              "    <tr>\n",
              "      <th>0</th>\n",
              "      <td>1</td>\n",
              "      <td>0</td>\n",
              "      <td>https://kindest.com/442355-defend-democracy-to...</td>\n",
              "      <td>Defend Democracy Today: Support Fearless, Insi...</td>\n",
              "      <td>[]</td>\n",
              "      <td>While the election has come and gone, the figh...</td>\n",
              "      <td>['reporting', 'come', 'today', 'access', 'chec...</td>\n",
              "      <td>set()</td>\n",
              "      <td>0.8612</td>\n",
              "      <td>0.063</td>\n",
              "      <td>0.819</td>\n",
              "      <td>0.118</td>\n",
              "      <td>0.165589</td>\n",
              "      <td>0.539782</td>\n",
              "      <td>left</td>\n",
              "      <td>0.000</td>\n",
              "      <td>0.472</td>\n",
              "      <td>0.528</td>\n",
              "      <td>0.000000</td>\n",
              "      <td>0.000000</td>\n",
              "      <td>[While the election has come and gone, the fig...</td>\n",
              "    </tr>\n",
              "    <tr>\n",
              "      <th>1</th>\n",
              "      <td>2</td>\n",
              "      <td>1</td>\n",
              "      <td>https://www.alternet.org/2021/03/dan-crenshaw/</td>\n",
              "      <td>Republican Dan Crenshaw goes down in flames du...</td>\n",
              "      <td>['Sarah K. Burris', 'Raw Story']</td>\n",
              "      <td>MSNBC host Mehdi Hasan went after Rep. Dan Cre...</td>\n",
              "      <td>['come', 'didnt', 'going', 'fox', 'biden', 'cr...</td>\n",
              "      <td>{'Religious right'}</td>\n",
              "      <td>0.6474</td>\n",
              "      <td>0.055</td>\n",
              "      <td>0.876</td>\n",
              "      <td>0.069</td>\n",
              "      <td>-0.034989</td>\n",
              "      <td>0.411162</td>\n",
              "      <td>left</td>\n",
              "      <td>0.000</td>\n",
              "      <td>1.000</td>\n",
              "      <td>0.000</td>\n",
              "      <td>-0.155556</td>\n",
              "      <td>0.288889</td>\n",
              "      <td>[MSNBC host Mehdi Hasan went after Rep,  Dan C...</td>\n",
              "    </tr>\n",
              "    <tr>\n",
              "      <th>2</th>\n",
              "      <td>3</td>\n",
              "      <td>2</td>\n",
              "      <td>https://www.alternet.org/2021/03/rep-dan-crens...</td>\n",
              "      <td>Rep. Dan Crenshaw purchased stock during pande...</td>\n",
              "      <td>['Meaghan Ellis']</td>\n",
              "      <td>Rep. Dan Crenshaw's (R-Texas) stock purchase h...</td>\n",
              "      <td>['purchased', 'transactions', 'law', 'pandemic...</td>\n",
              "      <td>{'Religious right'}</td>\n",
              "      <td>-0.8949</td>\n",
              "      <td>0.082</td>\n",
              "      <td>0.860</td>\n",
              "      <td>0.058</td>\n",
              "      <td>0.011441</td>\n",
              "      <td>0.323766</td>\n",
              "      <td>left</td>\n",
              "      <td>0.231</td>\n",
              "      <td>0.769</td>\n",
              "      <td>0.000</td>\n",
              "      <td>-0.500000</td>\n",
              "      <td>0.300000</td>\n",
              "      <td>[Rep,  Dan Crenshaw's (R-Texas) stock purchase...</td>\n",
              "    </tr>\n",
              "    <tr>\n",
              "      <th>3</th>\n",
              "      <td>4</td>\n",
              "      <td>3</td>\n",
              "      <td>https://www.alternet.org/2020/11/dan-crenshaw/</td>\n",
              "      <td>Sen. Ed Markey applauded for silent dismissal ...</td>\n",
              "      <td>['Walter Einenkel', 'Daily Kos']</td>\n",
              "      <td>Sen. Ed Markey is the Massachusetts Democrat w...</td>\n",
              "      <td>['district', 'lame', 'markey', 'office', 'rep'...</td>\n",
              "      <td>{'Religious right'}</td>\n",
              "      <td>0.9289</td>\n",
              "      <td>0.071</td>\n",
              "      <td>0.811</td>\n",
              "      <td>0.118</td>\n",
              "      <td>0.081250</td>\n",
              "      <td>0.439912</td>\n",
              "      <td>left</td>\n",
              "      <td>0.304</td>\n",
              "      <td>0.567</td>\n",
              "      <td>0.129</td>\n",
              "      <td>-0.250000</td>\n",
              "      <td>0.425000</td>\n",
              "      <td>[Sen,  Ed Markey is the Massachusetts Democrat...</td>\n",
              "    </tr>\n",
              "    <tr>\n",
              "      <th>4</th>\n",
              "      <td>5</td>\n",
              "      <td>4</td>\n",
              "      <td>https://www.alternet.org/2019/05/rep-dan-crens...</td>\n",
              "      <td>Rep. Dan Crenshaw gets cornered on The View fo...</td>\n",
              "      <td>['Travis Gettys', 'Raw Story']</td>\n",
              "      <td>Rep. Dan Crenshaw (R-TX) appeared on “The View...</td>\n",
              "      <td>['words', 'view', 'offering', 'think', 'omar',...</td>\n",
              "      <td>{'Religious right'}</td>\n",
              "      <td>-0.4810</td>\n",
              "      <td>0.077</td>\n",
              "      <td>0.848</td>\n",
              "      <td>0.075</td>\n",
              "      <td>0.045094</td>\n",
              "      <td>0.453717</td>\n",
              "      <td>left</td>\n",
              "      <td>0.088</td>\n",
              "      <td>0.798</td>\n",
              "      <td>0.113</td>\n",
              "      <td>-0.191667</td>\n",
              "      <td>0.525000</td>\n",
              "      <td>[Rep,  Dan Crenshaw (R-TX) appeared on “The Vi...</td>\n",
              "    </tr>\n",
              "  </tbody>\n",
              "</table>\n",
              "</div>"
            ],
            "text/plain": [
              "   Unnamed: 0  X  ...      tpol                                               sent\n",
              "0           1  0  ...  0.000000  [While the election has come and gone, the fig...\n",
              "1           2  1  ...  0.288889  [MSNBC host Mehdi Hasan went after Rep,  Dan C...\n",
              "2           3  2  ...  0.300000  [Rep,  Dan Crenshaw's (R-Texas) stock purchase...\n",
              "3           4  3  ...  0.425000  [Sen,  Ed Markey is the Massachusetts Democrat...\n",
              "4           5  4  ...  0.525000  [Rep,  Dan Crenshaw (R-TX) appeared on “The Vi...\n",
              "\n",
              "[5 rows x 21 columns]"
            ]
          },
          "metadata": {
            "tags": []
          },
          "execution_count": 22
        }
      ]
    },
    {
      "cell_type": "code",
      "metadata": {
        "colab": {
          "base_uri": "https://localhost:8080/",
          "height": 1000
        },
        "id": "axxX0IeIhDXa",
        "outputId": "6afc1112-e759-468e-d7b4-8c4ac2c9eaa4"
      },
      "source": [
        "dn=dm\n",
        "dn"
      ],
      "execution_count": null,
      "outputs": [
        {
          "output_type": "execute_result",
          "data": {
            "text/html": [
              "<div>\n",
              "<style scoped>\n",
              "    .dataframe tbody tr th:only-of-type {\n",
              "        vertical-align: middle;\n",
              "    }\n",
              "\n",
              "    .dataframe tbody tr th {\n",
              "        vertical-align: top;\n",
              "    }\n",
              "\n",
              "    .dataframe thead th {\n",
              "        text-align: right;\n",
              "    }\n",
              "</style>\n",
              "<table border=\"1\" class=\"dataframe\">\n",
              "  <thead>\n",
              "    <tr style=\"text-align: right;\">\n",
              "      <th></th>\n",
              "      <th>Unnamed: 0</th>\n",
              "      <th>X</th>\n",
              "      <th>link</th>\n",
              "      <th>title</th>\n",
              "      <th>author</th>\n",
              "      <th>text</th>\n",
              "      <th>keywords</th>\n",
              "      <th>tags</th>\n",
              "      <th>compound</th>\n",
              "      <th>neg</th>\n",
              "      <th>neu</th>\n",
              "      <th>pos</th>\n",
              "      <th>polarity</th>\n",
              "      <th>subjectivity</th>\n",
              "      <th>bd</th>\n",
              "      <th>tneg</th>\n",
              "      <th>tneu</th>\n",
              "      <th>tpos</th>\n",
              "      <th>tsub</th>\n",
              "      <th>tpol</th>\n",
              "      <th>sent</th>\n",
              "    </tr>\n",
              "  </thead>\n",
              "  <tbody>\n",
              "    <tr>\n",
              "      <th>0</th>\n",
              "      <td>1</td>\n",
              "      <td>0</td>\n",
              "      <td>https://kindest.com/442355-defend-democracy-to...</td>\n",
              "      <td>Defend Democracy Today: Support Fearless, Insi...</td>\n",
              "      <td>[]</td>\n",
              "      <td>While the election has come and gone, the figh...</td>\n",
              "      <td>['reporting', 'come', 'today', 'access', 'chec...</td>\n",
              "      <td>set()</td>\n",
              "      <td>0.8612</td>\n",
              "      <td>0.063</td>\n",
              "      <td>0.819</td>\n",
              "      <td>0.118</td>\n",
              "      <td>0.165589</td>\n",
              "      <td>0.539782</td>\n",
              "      <td>left</td>\n",
              "      <td>0.000</td>\n",
              "      <td>0.472</td>\n",
              "      <td>0.528</td>\n",
              "      <td>0.000000</td>\n",
              "      <td>0.000000</td>\n",
              "      <td>[While the election has come and gone, the fig...</td>\n",
              "    </tr>\n",
              "    <tr>\n",
              "      <th>1</th>\n",
              "      <td>2</td>\n",
              "      <td>1</td>\n",
              "      <td>https://www.alternet.org/2021/03/dan-crenshaw/</td>\n",
              "      <td>Republican Dan Crenshaw goes down in flames du...</td>\n",
              "      <td>['Sarah K. Burris', 'Raw Story']</td>\n",
              "      <td>MSNBC host Mehdi Hasan went after Rep. Dan Cre...</td>\n",
              "      <td>['come', 'didnt', 'going', 'fox', 'biden', 'cr...</td>\n",
              "      <td>{'Religious right'}</td>\n",
              "      <td>0.6474</td>\n",
              "      <td>0.055</td>\n",
              "      <td>0.876</td>\n",
              "      <td>0.069</td>\n",
              "      <td>-0.034989</td>\n",
              "      <td>0.411162</td>\n",
              "      <td>left</td>\n",
              "      <td>0.000</td>\n",
              "      <td>1.000</td>\n",
              "      <td>0.000</td>\n",
              "      <td>-0.155556</td>\n",
              "      <td>0.288889</td>\n",
              "      <td>[MSNBC host Mehdi Hasan went after Rep,  Dan C...</td>\n",
              "    </tr>\n",
              "    <tr>\n",
              "      <th>2</th>\n",
              "      <td>3</td>\n",
              "      <td>2</td>\n",
              "      <td>https://www.alternet.org/2021/03/rep-dan-crens...</td>\n",
              "      <td>Rep. Dan Crenshaw purchased stock during pande...</td>\n",
              "      <td>['Meaghan Ellis']</td>\n",
              "      <td>Rep. Dan Crenshaw's (R-Texas) stock purchase h...</td>\n",
              "      <td>['purchased', 'transactions', 'law', 'pandemic...</td>\n",
              "      <td>{'Religious right'}</td>\n",
              "      <td>-0.8949</td>\n",
              "      <td>0.082</td>\n",
              "      <td>0.860</td>\n",
              "      <td>0.058</td>\n",
              "      <td>0.011441</td>\n",
              "      <td>0.323766</td>\n",
              "      <td>left</td>\n",
              "      <td>0.231</td>\n",
              "      <td>0.769</td>\n",
              "      <td>0.000</td>\n",
              "      <td>-0.500000</td>\n",
              "      <td>0.300000</td>\n",
              "      <td>[Rep,  Dan Crenshaw's (R-Texas) stock purchase...</td>\n",
              "    </tr>\n",
              "    <tr>\n",
              "      <th>3</th>\n",
              "      <td>4</td>\n",
              "      <td>3</td>\n",
              "      <td>https://www.alternet.org/2020/11/dan-crenshaw/</td>\n",
              "      <td>Sen. Ed Markey applauded for silent dismissal ...</td>\n",
              "      <td>['Walter Einenkel', 'Daily Kos']</td>\n",
              "      <td>Sen. Ed Markey is the Massachusetts Democrat w...</td>\n",
              "      <td>['district', 'lame', 'markey', 'office', 'rep'...</td>\n",
              "      <td>{'Religious right'}</td>\n",
              "      <td>0.9289</td>\n",
              "      <td>0.071</td>\n",
              "      <td>0.811</td>\n",
              "      <td>0.118</td>\n",
              "      <td>0.081250</td>\n",
              "      <td>0.439912</td>\n",
              "      <td>left</td>\n",
              "      <td>0.304</td>\n",
              "      <td>0.567</td>\n",
              "      <td>0.129</td>\n",
              "      <td>-0.250000</td>\n",
              "      <td>0.425000</td>\n",
              "      <td>[Sen,  Ed Markey is the Massachusetts Democrat...</td>\n",
              "    </tr>\n",
              "    <tr>\n",
              "      <th>4</th>\n",
              "      <td>5</td>\n",
              "      <td>4</td>\n",
              "      <td>https://www.alternet.org/2019/05/rep-dan-crens...</td>\n",
              "      <td>Rep. Dan Crenshaw gets cornered on The View fo...</td>\n",
              "      <td>['Travis Gettys', 'Raw Story']</td>\n",
              "      <td>Rep. Dan Crenshaw (R-TX) appeared on “The View...</td>\n",
              "      <td>['words', 'view', 'offering', 'think', 'omar',...</td>\n",
              "      <td>{'Religious right'}</td>\n",
              "      <td>-0.4810</td>\n",
              "      <td>0.077</td>\n",
              "      <td>0.848</td>\n",
              "      <td>0.075</td>\n",
              "      <td>0.045094</td>\n",
              "      <td>0.453717</td>\n",
              "      <td>left</td>\n",
              "      <td>0.088</td>\n",
              "      <td>0.798</td>\n",
              "      <td>0.113</td>\n",
              "      <td>-0.191667</td>\n",
              "      <td>0.525000</td>\n",
              "      <td>[Rep,  Dan Crenshaw (R-TX) appeared on “The Vi...</td>\n",
              "    </tr>\n",
              "    <tr>\n",
              "      <th>...</th>\n",
              "      <td>...</td>\n",
              "      <td>...</td>\n",
              "      <td>...</td>\n",
              "      <td>...</td>\n",
              "      <td>...</td>\n",
              "      <td>...</td>\n",
              "      <td>...</td>\n",
              "      <td>...</td>\n",
              "      <td>...</td>\n",
              "      <td>...</td>\n",
              "      <td>...</td>\n",
              "      <td>...</td>\n",
              "      <td>...</td>\n",
              "      <td>...</td>\n",
              "      <td>...</td>\n",
              "      <td>...</td>\n",
              "      <td>...</td>\n",
              "      <td>...</td>\n",
              "      <td>...</td>\n",
              "      <td>...</td>\n",
              "      <td>...</td>\n",
              "    </tr>\n",
              "    <tr>\n",
              "      <th>4216</th>\n",
              "      <td>4217</td>\n",
              "      <td>1805</td>\n",
              "      <td>https://www.firstthings.com/web-exclusives/201...</td>\n",
              "      <td>The American Mind Podcast: The Roundtable Epis...</td>\n",
              "      <td>['Yuval Levin', 'Peter Spiliakos', 'Stanley Ku...</td>\n",
              "      <td>The American Mind’s ‘Editorial Roundtable’ pod...</td>\n",
              "      <td>['mind', '53', 'tearful', 'williams', 'america...</td>\n",
              "      <td>set()</td>\n",
              "      <td>0.1298</td>\n",
              "      <td>0.039</td>\n",
              "      <td>0.907</td>\n",
              "      <td>0.053</td>\n",
              "      <td>0.088636</td>\n",
              "      <td>0.420455</td>\n",
              "      <td>right</td>\n",
              "      <td>0.000</td>\n",
              "      <td>1.000</td>\n",
              "      <td>0.000</td>\n",
              "      <td>0.000000</td>\n",
              "      <td>0.000000</td>\n",
              "      <td>[The American Mind’s ‘Editorial Roundtable’ po...</td>\n",
              "    </tr>\n",
              "    <tr>\n",
              "      <th>4217</th>\n",
              "      <td>4218</td>\n",
              "      <td>1806</td>\n",
              "      <td>https://claremontreviewofbooks.com/american-co...</td>\n",
              "      <td>James Poulos joins the Texas Public Policy Fou...</td>\n",
              "      <td>[]</td>\n",
              "      <td>We use cookies on our website to give you the ...</td>\n",
              "      <td>['foundation', 'joins', 'relevant', 'visits', ...</td>\n",
              "      <td>{'TPPF', 'Totalitarianism', 'James Poulos', 'L...</td>\n",
              "      <td>0.2263</td>\n",
              "      <td>0.000</td>\n",
              "      <td>0.942</td>\n",
              "      <td>0.058</td>\n",
              "      <td>0.450000</td>\n",
              "      <td>0.700000</td>\n",
              "      <td>right</td>\n",
              "      <td>0.000</td>\n",
              "      <td>1.000</td>\n",
              "      <td>0.000</td>\n",
              "      <td>0.000000</td>\n",
              "      <td>0.066667</td>\n",
              "      <td>[We use cookies on our website to give you the...</td>\n",
              "    </tr>\n",
              "    <tr>\n",
              "      <th>4218</th>\n",
              "      <td>4219</td>\n",
              "      <td>1807</td>\n",
              "      <td>https://www.thepublicdiscourse.com/2021/02/74146/</td>\n",
              "      <td>Matt Peterson joins the Texas Public Policy Fo...</td>\n",
              "      <td>['Matthew J. Peterson']</td>\n",
              "      <td>There’s a social media site whose glitzy video...</td>\n",
              "      <td>['matt', 'site', 'foundation', 'swipe', 'joins...</td>\n",
              "      <td>{'TPPF', 'Totalitarianism', 'big tech', 'corpo...</td>\n",
              "      <td>-0.5106</td>\n",
              "      <td>0.068</td>\n",
              "      <td>0.915</td>\n",
              "      <td>0.017</td>\n",
              "      <td>-0.045833</td>\n",
              "      <td>0.291667</td>\n",
              "      <td>right</td>\n",
              "      <td>0.000</td>\n",
              "      <td>1.000</td>\n",
              "      <td>0.000</td>\n",
              "      <td>0.000000</td>\n",
              "      <td>0.066667</td>\n",
              "      <td>[There’s a social media site whose glitzy vide...</td>\n",
              "    </tr>\n",
              "    <tr>\n",
              "      <th>4219</th>\n",
              "      <td>4220</td>\n",
              "      <td>1808</td>\n",
              "      <td>https://lawliberty.org/the-three-fault-lines-o...</td>\n",
              "      <td>William Voegeli joins the 10 Blocks podcast</td>\n",
              "      <td>[]</td>\n",
              "      <td>We use cookies on our website to give you the ...</td>\n",
              "      <td>['blocks', 'joins', 'voegeli', 'visits', 'webs...</td>\n",
              "      <td>{'10 Blocks', 'Brian Anderson', 'capitol riots...</td>\n",
              "      <td>0.2263</td>\n",
              "      <td>0.000</td>\n",
              "      <td>0.942</td>\n",
              "      <td>0.058</td>\n",
              "      <td>0.450000</td>\n",
              "      <td>0.700000</td>\n",
              "      <td>right</td>\n",
              "      <td>0.241</td>\n",
              "      <td>0.759</td>\n",
              "      <td>0.000</td>\n",
              "      <td>0.000000</td>\n",
              "      <td>0.000000</td>\n",
              "      <td>[We use cookies on our website to give you the...</td>\n",
              "    </tr>\n",
              "    <tr>\n",
              "      <th>4220</th>\n",
              "      <td>4221</td>\n",
              "      <td>1809</td>\n",
              "      <td>https://americanmind.org/video/book-talk-crisi...</td>\n",
              "      <td>The American Mind Podcast: The Roundtable Epis...</td>\n",
              "      <td>['Christopher Buskirk', 'Kevin Portteus', 'Dan...</td>\n",
              "      <td>The American Mind’s ‘Editorial Roundtable’ pod...</td>\n",
              "      <td>['mind', 'williams', 'trump', 'american', 'unc...</td>\n",
              "      <td>set()</td>\n",
              "      <td>0.6808</td>\n",
              "      <td>0.026</td>\n",
              "      <td>0.900</td>\n",
              "      <td>0.074</td>\n",
              "      <td>0.114815</td>\n",
              "      <td>0.296296</td>\n",
              "      <td>right</td>\n",
              "      <td>0.000</td>\n",
              "      <td>1.000</td>\n",
              "      <td>0.000</td>\n",
              "      <td>0.000000</td>\n",
              "      <td>0.000000</td>\n",
              "      <td>[The American Mind’s ‘Editorial Roundtable’ po...</td>\n",
              "    </tr>\n",
              "  </tbody>\n",
              "</table>\n",
              "<p>4221 rows × 21 columns</p>\n",
              "</div>"
            ],
            "text/plain": [
              "      Unnamed: 0  ...                                               sent\n",
              "0              1  ...  [While the election has come and gone, the fig...\n",
              "1              2  ...  [MSNBC host Mehdi Hasan went after Rep,  Dan C...\n",
              "2              3  ...  [Rep,  Dan Crenshaw's (R-Texas) stock purchase...\n",
              "3              4  ...  [Sen,  Ed Markey is the Massachusetts Democrat...\n",
              "4              5  ...  [Rep,  Dan Crenshaw (R-TX) appeared on “The Vi...\n",
              "...          ...  ...                                                ...\n",
              "4216        4217  ...  [The American Mind’s ‘Editorial Roundtable’ po...\n",
              "4217        4218  ...  [We use cookies on our website to give you the...\n",
              "4218        4219  ...  [There’s a social media site whose glitzy vide...\n",
              "4219        4220  ...  [We use cookies on our website to give you the...\n",
              "4220        4221  ...  [The American Mind’s ‘Editorial Roundtable’ po...\n",
              "\n",
              "[4221 rows x 21 columns]"
            ]
          },
          "metadata": {
            "tags": []
          },
          "execution_count": 23
        }
      ]
    },
    {
      "cell_type": "markdown",
      "metadata": {
        "id": "O5YdR69s9w4o"
      },
      "source": [
        "# Check Algo\n",
        "## Liberal Keyword + negative sentance = Rigth bias++\n",
        "## Liberal Keyword + positive sentance = left bias++\n",
        "## Conservative Keyword + positive sentance = Rigth bias++\n",
        "## Conservative Keyword + negative sentance = left bias++"
      ]
    },
    {
      "cell_type": "code",
      "metadata": {
        "colab": {
          "base_uri": "https://localhost:8080/",
          "height": 1000
        },
        "id": "-tVagyDlN_UP",
        "outputId": "7a121357-11d9-4137-d290-2191c2d33073"
      },
      "source": [
        "# algo to check sentiment according to keywords\n",
        "leftcheck=[]\n",
        "rightcheck=[]\n",
        "b=0\n",
        "br=0\n",
        "\n",
        "for m in dn['sent']:\n",
        "  for x in m:\n",
        "    for y in lib:\n",
        "      if y in x:\n",
        "        b=b+1\n",
        "        vt=sia.polarity_scores(x)\n",
        "        if vt[\"pos\"]>vt[\"neu\"]:\n",
        "          b=b+5\n",
        "        if vt[\"neg\"]>vt[\"neu\"]:\n",
        "          b=b-7\n",
        "        if vt[\"neg\"]>vt[\"pos\"]:\n",
        "          b=b-1\n",
        "        else:\n",
        "          b=b+1\n",
        "  leftcheck.append(b)\n",
        "  b=0\n",
        "\n",
        "for m in dn['sent']:\n",
        "  for x in m:\n",
        "    for y in con:\n",
        "      if y in x:\n",
        "        br=br+1\n",
        "        vt=sia.polarity_scores(x)\n",
        "        if vt[\"pos\"]>vt[\"neu\"]:\n",
        "          br=br+15\n",
        "        if vt[\"neg\"]>vt[\"neu\"]:\n",
        "          br=br-7\n",
        "        if vt[\"neg\"]>vt[\"pos\"]:\n",
        "          br=br-3\n",
        "        else:\n",
        "          br=br+1\n",
        "  rightcheck.append(br)\n",
        "  br=0\n",
        "  \n",
        "  \n",
        "\n",
        "\n",
        "\n",
        "dn['leftc']=leftcheck\n",
        "dn['rightc']=rightcheck    \n",
        "dn "
      ],
      "execution_count": null,
      "outputs": [
        {
          "output_type": "execute_result",
          "data": {
            "text/html": [
              "<div>\n",
              "<style scoped>\n",
              "    .dataframe tbody tr th:only-of-type {\n",
              "        vertical-align: middle;\n",
              "    }\n",
              "\n",
              "    .dataframe tbody tr th {\n",
              "        vertical-align: top;\n",
              "    }\n",
              "\n",
              "    .dataframe thead th {\n",
              "        text-align: right;\n",
              "    }\n",
              "</style>\n",
              "<table border=\"1\" class=\"dataframe\">\n",
              "  <thead>\n",
              "    <tr style=\"text-align: right;\">\n",
              "      <th></th>\n",
              "      <th>Unnamed: 0</th>\n",
              "      <th>X</th>\n",
              "      <th>link</th>\n",
              "      <th>title</th>\n",
              "      <th>author</th>\n",
              "      <th>text</th>\n",
              "      <th>keywords</th>\n",
              "      <th>tags</th>\n",
              "      <th>compound</th>\n",
              "      <th>neg</th>\n",
              "      <th>neu</th>\n",
              "      <th>pos</th>\n",
              "      <th>polarity</th>\n",
              "      <th>subjectivity</th>\n",
              "      <th>bd</th>\n",
              "      <th>tneg</th>\n",
              "      <th>tneu</th>\n",
              "      <th>tpos</th>\n",
              "      <th>tsub</th>\n",
              "      <th>tpol</th>\n",
              "      <th>sent</th>\n",
              "      <th>leftc</th>\n",
              "      <th>rightc</th>\n",
              "    </tr>\n",
              "  </thead>\n",
              "  <tbody>\n",
              "    <tr>\n",
              "      <th>0</th>\n",
              "      <td>1</td>\n",
              "      <td>0</td>\n",
              "      <td>https://kindest.com/442355-defend-democracy-to...</td>\n",
              "      <td>Defend Democracy Today: Support Fearless, Insi...</td>\n",
              "      <td>[]</td>\n",
              "      <td>While the election has come and gone, the figh...</td>\n",
              "      <td>['reporting', 'come', 'today', 'access', 'chec...</td>\n",
              "      <td>set()</td>\n",
              "      <td>0.8612</td>\n",
              "      <td>0.063</td>\n",
              "      <td>0.819</td>\n",
              "      <td>0.118</td>\n",
              "      <td>0.165589</td>\n",
              "      <td>0.539782</td>\n",
              "      <td>left</td>\n",
              "      <td>0.000</td>\n",
              "      <td>0.472</td>\n",
              "      <td>0.528</td>\n",
              "      <td>0.000000</td>\n",
              "      <td>0.000000</td>\n",
              "      <td>[While the election has come and gone, the fig...</td>\n",
              "      <td>0</td>\n",
              "      <td>12</td>\n",
              "    </tr>\n",
              "    <tr>\n",
              "      <th>1</th>\n",
              "      <td>2</td>\n",
              "      <td>1</td>\n",
              "      <td>https://www.alternet.org/2021/03/dan-crenshaw/</td>\n",
              "      <td>Republican Dan Crenshaw goes down in flames du...</td>\n",
              "      <td>['Sarah K. Burris', 'Raw Story']</td>\n",
              "      <td>MSNBC host Mehdi Hasan went after Rep. Dan Cre...</td>\n",
              "      <td>['come', 'didnt', 'going', 'fox', 'biden', 'cr...</td>\n",
              "      <td>{'Religious right'}</td>\n",
              "      <td>0.6474</td>\n",
              "      <td>0.055</td>\n",
              "      <td>0.876</td>\n",
              "      <td>0.069</td>\n",
              "      <td>-0.034989</td>\n",
              "      <td>0.411162</td>\n",
              "      <td>left</td>\n",
              "      <td>0.000</td>\n",
              "      <td>1.000</td>\n",
              "      <td>0.000</td>\n",
              "      <td>-0.155556</td>\n",
              "      <td>0.288889</td>\n",
              "      <td>[MSNBC host Mehdi Hasan went after Rep,  Dan C...</td>\n",
              "      <td>4</td>\n",
              "      <td>6</td>\n",
              "    </tr>\n",
              "    <tr>\n",
              "      <th>2</th>\n",
              "      <td>3</td>\n",
              "      <td>2</td>\n",
              "      <td>https://www.alternet.org/2021/03/rep-dan-crens...</td>\n",
              "      <td>Rep. Dan Crenshaw purchased stock during pande...</td>\n",
              "      <td>['Meaghan Ellis']</td>\n",
              "      <td>Rep. Dan Crenshaw's (R-Texas) stock purchase h...</td>\n",
              "      <td>['purchased', 'transactions', 'law', 'pandemic...</td>\n",
              "      <td>{'Religious right'}</td>\n",
              "      <td>-0.8949</td>\n",
              "      <td>0.082</td>\n",
              "      <td>0.860</td>\n",
              "      <td>0.058</td>\n",
              "      <td>0.011441</td>\n",
              "      <td>0.323766</td>\n",
              "      <td>left</td>\n",
              "      <td>0.231</td>\n",
              "      <td>0.769</td>\n",
              "      <td>0.000</td>\n",
              "      <td>-0.500000</td>\n",
              "      <td>0.300000</td>\n",
              "      <td>[Rep,  Dan Crenshaw's (R-Texas) stock purchase...</td>\n",
              "      <td>0</td>\n",
              "      <td>6</td>\n",
              "    </tr>\n",
              "    <tr>\n",
              "      <th>3</th>\n",
              "      <td>4</td>\n",
              "      <td>3</td>\n",
              "      <td>https://www.alternet.org/2020/11/dan-crenshaw/</td>\n",
              "      <td>Sen. Ed Markey applauded for silent dismissal ...</td>\n",
              "      <td>['Walter Einenkel', 'Daily Kos']</td>\n",
              "      <td>Sen. Ed Markey is the Massachusetts Democrat w...</td>\n",
              "      <td>['district', 'lame', 'markey', 'office', 'rep'...</td>\n",
              "      <td>{'Religious right'}</td>\n",
              "      <td>0.9289</td>\n",
              "      <td>0.071</td>\n",
              "      <td>0.811</td>\n",
              "      <td>0.118</td>\n",
              "      <td>0.081250</td>\n",
              "      <td>0.439912</td>\n",
              "      <td>left</td>\n",
              "      <td>0.304</td>\n",
              "      <td>0.567</td>\n",
              "      <td>0.129</td>\n",
              "      <td>-0.250000</td>\n",
              "      <td>0.425000</td>\n",
              "      <td>[Sen,  Ed Markey is the Massachusetts Democrat...</td>\n",
              "      <td>0</td>\n",
              "      <td>6</td>\n",
              "    </tr>\n",
              "    <tr>\n",
              "      <th>4</th>\n",
              "      <td>5</td>\n",
              "      <td>4</td>\n",
              "      <td>https://www.alternet.org/2019/05/rep-dan-crens...</td>\n",
              "      <td>Rep. Dan Crenshaw gets cornered on The View fo...</td>\n",
              "      <td>['Travis Gettys', 'Raw Story']</td>\n",
              "      <td>Rep. Dan Crenshaw (R-TX) appeared on “The View...</td>\n",
              "      <td>['words', 'view', 'offering', 'think', 'omar',...</td>\n",
              "      <td>{'Religious right'}</td>\n",
              "      <td>-0.4810</td>\n",
              "      <td>0.077</td>\n",
              "      <td>0.848</td>\n",
              "      <td>0.075</td>\n",
              "      <td>0.045094</td>\n",
              "      <td>0.453717</td>\n",
              "      <td>left</td>\n",
              "      <td>0.088</td>\n",
              "      <td>0.798</td>\n",
              "      <td>0.113</td>\n",
              "      <td>-0.191667</td>\n",
              "      <td>0.525000</td>\n",
              "      <td>[Rep,  Dan Crenshaw (R-TX) appeared on “The Vi...</td>\n",
              "      <td>2</td>\n",
              "      <td>2</td>\n",
              "    </tr>\n",
              "    <tr>\n",
              "      <th>...</th>\n",
              "      <td>...</td>\n",
              "      <td>...</td>\n",
              "      <td>...</td>\n",
              "      <td>...</td>\n",
              "      <td>...</td>\n",
              "      <td>...</td>\n",
              "      <td>...</td>\n",
              "      <td>...</td>\n",
              "      <td>...</td>\n",
              "      <td>...</td>\n",
              "      <td>...</td>\n",
              "      <td>...</td>\n",
              "      <td>...</td>\n",
              "      <td>...</td>\n",
              "      <td>...</td>\n",
              "      <td>...</td>\n",
              "      <td>...</td>\n",
              "      <td>...</td>\n",
              "      <td>...</td>\n",
              "      <td>...</td>\n",
              "      <td>...</td>\n",
              "      <td>...</td>\n",
              "      <td>...</td>\n",
              "    </tr>\n",
              "    <tr>\n",
              "      <th>4216</th>\n",
              "      <td>4217</td>\n",
              "      <td>1805</td>\n",
              "      <td>https://www.firstthings.com/web-exclusives/201...</td>\n",
              "      <td>The American Mind Podcast: The Roundtable Epis...</td>\n",
              "      <td>['Yuval Levin', 'Peter Spiliakos', 'Stanley Ku...</td>\n",
              "      <td>The American Mind’s ‘Editorial Roundtable’ pod...</td>\n",
              "      <td>['mind', '53', 'tearful', 'williams', 'america...</td>\n",
              "      <td>set()</td>\n",
              "      <td>0.1298</td>\n",
              "      <td>0.039</td>\n",
              "      <td>0.907</td>\n",
              "      <td>0.053</td>\n",
              "      <td>0.088636</td>\n",
              "      <td>0.420455</td>\n",
              "      <td>right</td>\n",
              "      <td>0.000</td>\n",
              "      <td>1.000</td>\n",
              "      <td>0.000</td>\n",
              "      <td>0.000000</td>\n",
              "      <td>0.000000</td>\n",
              "      <td>[The American Mind’s ‘Editorial Roundtable’ po...</td>\n",
              "      <td>0</td>\n",
              "      <td>0</td>\n",
              "    </tr>\n",
              "    <tr>\n",
              "      <th>4217</th>\n",
              "      <td>4218</td>\n",
              "      <td>1806</td>\n",
              "      <td>https://claremontreviewofbooks.com/american-co...</td>\n",
              "      <td>James Poulos joins the Texas Public Policy Fou...</td>\n",
              "      <td>[]</td>\n",
              "      <td>We use cookies on our website to give you the ...</td>\n",
              "      <td>['foundation', 'joins', 'relevant', 'visits', ...</td>\n",
              "      <td>{'TPPF', 'Totalitarianism', 'James Poulos', 'L...</td>\n",
              "      <td>0.2263</td>\n",
              "      <td>0.000</td>\n",
              "      <td>0.942</td>\n",
              "      <td>0.058</td>\n",
              "      <td>0.450000</td>\n",
              "      <td>0.700000</td>\n",
              "      <td>right</td>\n",
              "      <td>0.000</td>\n",
              "      <td>1.000</td>\n",
              "      <td>0.000</td>\n",
              "      <td>0.000000</td>\n",
              "      <td>0.066667</td>\n",
              "      <td>[We use cookies on our website to give you the...</td>\n",
              "      <td>0</td>\n",
              "      <td>2</td>\n",
              "    </tr>\n",
              "    <tr>\n",
              "      <th>4218</th>\n",
              "      <td>4219</td>\n",
              "      <td>1807</td>\n",
              "      <td>https://www.thepublicdiscourse.com/2021/02/74146/</td>\n",
              "      <td>Matt Peterson joins the Texas Public Policy Fo...</td>\n",
              "      <td>['Matthew J. Peterson']</td>\n",
              "      <td>There’s a social media site whose glitzy video...</td>\n",
              "      <td>['matt', 'site', 'foundation', 'swipe', 'joins...</td>\n",
              "      <td>{'TPPF', 'Totalitarianism', 'big tech', 'corpo...</td>\n",
              "      <td>-0.5106</td>\n",
              "      <td>0.068</td>\n",
              "      <td>0.915</td>\n",
              "      <td>0.017</td>\n",
              "      <td>-0.045833</td>\n",
              "      <td>0.291667</td>\n",
              "      <td>right</td>\n",
              "      <td>0.000</td>\n",
              "      <td>1.000</td>\n",
              "      <td>0.000</td>\n",
              "      <td>0.000000</td>\n",
              "      <td>0.066667</td>\n",
              "      <td>[There’s a social media site whose glitzy vide...</td>\n",
              "      <td>0</td>\n",
              "      <td>0</td>\n",
              "    </tr>\n",
              "    <tr>\n",
              "      <th>4219</th>\n",
              "      <td>4220</td>\n",
              "      <td>1808</td>\n",
              "      <td>https://lawliberty.org/the-three-fault-lines-o...</td>\n",
              "      <td>William Voegeli joins the 10 Blocks podcast</td>\n",
              "      <td>[]</td>\n",
              "      <td>We use cookies on our website to give you the ...</td>\n",
              "      <td>['blocks', 'joins', 'voegeli', 'visits', 'webs...</td>\n",
              "      <td>{'10 Blocks', 'Brian Anderson', 'capitol riots...</td>\n",
              "      <td>0.2263</td>\n",
              "      <td>0.000</td>\n",
              "      <td>0.942</td>\n",
              "      <td>0.058</td>\n",
              "      <td>0.450000</td>\n",
              "      <td>0.700000</td>\n",
              "      <td>right</td>\n",
              "      <td>0.241</td>\n",
              "      <td>0.759</td>\n",
              "      <td>0.000</td>\n",
              "      <td>0.000000</td>\n",
              "      <td>0.000000</td>\n",
              "      <td>[We use cookies on our website to give you the...</td>\n",
              "      <td>0</td>\n",
              "      <td>2</td>\n",
              "    </tr>\n",
              "    <tr>\n",
              "      <th>4220</th>\n",
              "      <td>4221</td>\n",
              "      <td>1809</td>\n",
              "      <td>https://americanmind.org/video/book-talk-crisi...</td>\n",
              "      <td>The American Mind Podcast: The Roundtable Epis...</td>\n",
              "      <td>['Christopher Buskirk', 'Kevin Portteus', 'Dan...</td>\n",
              "      <td>The American Mind’s ‘Editorial Roundtable’ pod...</td>\n",
              "      <td>['mind', 'williams', 'trump', 'american', 'unc...</td>\n",
              "      <td>set()</td>\n",
              "      <td>0.6808</td>\n",
              "      <td>0.026</td>\n",
              "      <td>0.900</td>\n",
              "      <td>0.074</td>\n",
              "      <td>0.114815</td>\n",
              "      <td>0.296296</td>\n",
              "      <td>right</td>\n",
              "      <td>0.000</td>\n",
              "      <td>1.000</td>\n",
              "      <td>0.000</td>\n",
              "      <td>0.000000</td>\n",
              "      <td>0.000000</td>\n",
              "      <td>[The American Mind’s ‘Editorial Roundtable’ po...</td>\n",
              "      <td>0</td>\n",
              "      <td>2</td>\n",
              "    </tr>\n",
              "  </tbody>\n",
              "</table>\n",
              "<p>4221 rows × 23 columns</p>\n",
              "</div>"
            ],
            "text/plain": [
              "      Unnamed: 0     X  ... leftc rightc\n",
              "0              1     0  ...     0     12\n",
              "1              2     1  ...     4      6\n",
              "2              3     2  ...     0      6\n",
              "3              4     3  ...     0      6\n",
              "4              5     4  ...     2      2\n",
              "...          ...   ...  ...   ...    ...\n",
              "4216        4217  1805  ...     0      0\n",
              "4217        4218  1806  ...     0      2\n",
              "4218        4219  1807  ...     0      0\n",
              "4219        4220  1808  ...     0      2\n",
              "4220        4221  1809  ...     0      2\n",
              "\n",
              "[4221 rows x 23 columns]"
            ]
          },
          "metadata": {
            "tags": []
          },
          "execution_count": 24
        }
      ]
    },
    {
      "cell_type": "code",
      "metadata": {
        "colab": {
          "base_uri": "https://localhost:8080/"
        },
        "id": "JFhlYCOAwt1Z",
        "outputId": "a0623a30-1347-4e2e-a57c-3458a30c25bb"
      },
      "source": [
        "print(dn['leftc'].mean())\n",
        "print(dn['rightc'].mean())"
      ],
      "execution_count": null,
      "outputs": [
        {
          "output_type": "stream",
          "text": [
            "4.111584932480455\n",
            "2.2800284292821607\n"
          ],
          "name": "stdout"
        }
      ]
    },
    {
      "cell_type": "code",
      "metadata": {
        "colab": {
          "base_uri": "https://localhost:8080/"
        },
        "id": "65rlLPaMAeqg",
        "outputId": "b3feede1-2ecd-40b7-aabd-e0699f458d5f"
      },
      "source": [
        "rr=dn[dn[\"bd\"]==\"right\"]\n",
        "ll=dn[dn[\"bd\"]==\"left\"]  \n",
        "print(\"The righness of right : \" , rr['rightc'].mean())\n",
        "print(\"leftness of right : \" , rr['leftc'].mean())\n",
        "print(\"The righness of left : \" , ll['rightc'].mean())\n",
        "print(\"leftness of left : \" , ll['leftc'].mean())"
      ],
      "execution_count": null,
      "outputs": [
        {
          "output_type": "stream",
          "text": [
            "The righness of right :  1.4701657458563535\n",
            "leftness of right :  2.369060773480663\n",
            "The righness of left :  2.888013272501037\n",
            "leftness of left :  5.41974284529241\n"
          ],
          "name": "stdout"
        }
      ]
    },
    {
      "cell_type": "code",
      "metadata": {
        "colab": {
          "base_uri": "https://localhost:8080/",
          "height": 17
        },
        "id": "5SbOalOBkfCC",
        "outputId": "c38faea7-7559-4715-9174-3a920272730d"
      },
      "source": [
        "from google.colab import files\n",
        "\n",
        "dn.to_csv('fml.csv')\n",
        "files.download('fml.csv')"
      ],
      "execution_count": null,
      "outputs": [
        {
          "output_type": "display_data",
          "data": {
            "application/javascript": [
              "\n",
              "    async function download(id, filename, size) {\n",
              "      if (!google.colab.kernel.accessAllowed) {\n",
              "        return;\n",
              "      }\n",
              "      const div = document.createElement('div');\n",
              "      const label = document.createElement('label');\n",
              "      label.textContent = `Downloading \"${filename}\": `;\n",
              "      div.appendChild(label);\n",
              "      const progress = document.createElement('progress');\n",
              "      progress.max = size;\n",
              "      div.appendChild(progress);\n",
              "      document.body.appendChild(div);\n",
              "\n",
              "      const buffers = [];\n",
              "      let downloaded = 0;\n",
              "\n",
              "      const channel = await google.colab.kernel.comms.open(id);\n",
              "      // Send a message to notify the kernel that we're ready.\n",
              "      channel.send({})\n",
              "\n",
              "      for await (const message of channel.messages) {\n",
              "        // Send a message to notify the kernel that we're ready.\n",
              "        channel.send({})\n",
              "        if (message.buffers) {\n",
              "          for (const buffer of message.buffers) {\n",
              "            buffers.push(buffer);\n",
              "            downloaded += buffer.byteLength;\n",
              "            progress.value = downloaded;\n",
              "          }\n",
              "        }\n",
              "      }\n",
              "      const blob = new Blob(buffers, {type: 'application/binary'});\n",
              "      const a = document.createElement('a');\n",
              "      a.href = window.URL.createObjectURL(blob);\n",
              "      a.download = filename;\n",
              "      div.appendChild(a);\n",
              "      a.click();\n",
              "      div.remove();\n",
              "    }\n",
              "  "
            ],
            "text/plain": [
              "<IPython.core.display.Javascript object>"
            ]
          },
          "metadata": {
            "tags": []
          }
        },
        {
          "output_type": "display_data",
          "data": {
            "application/javascript": [
              "download(\"download_1335bf4c-8d01-4c72-8ac0-d507b7368bc5\", \"fml.csv\", 45816453)"
            ],
            "text/plain": [
              "<IPython.core.display.Javascript object>"
            ]
          },
          "metadata": {
            "tags": []
          }
        }
      ]
    },
    {
      "cell_type": "markdown",
      "metadata": {
        "id": "EG1rah0s-xNt"
      },
      "source": [
        "## The ML ting"
      ]
    },
    {
      "cell_type": "code",
      "metadata": {
        "colab": {
          "base_uri": "https://localhost:8080/",
          "height": 229
        },
        "id": "vlFoPa1r_11I",
        "outputId": "5d4bd4cc-b71a-4090-9660-bb7944169e2b"
      },
      "source": [
        "# Finding the best feature\n",
        "import pandas as pd\n",
        "import numpy as np\n",
        "from sklearn.feature_selection import SelectKBest\n",
        "from sklearn.feature_selection import chi2\n",
        "#apply SelectKBest class to extract top 10 best features\n",
        "bestfeatures = SelectKBest(score_func=chi2, k=10)\n",
        "fit = bestfeatures.fit(X,y)\n",
        "dfscores = pd.DataFrame(fit.scores_)\n",
        "dfcolumns = pd.DataFrame(X.columns)\n",
        "#concat two dataframes for better visualization \n",
        "featureScores = pd.concat([dfcolumns,dfscores],axis=1)\n",
        "featureScores.columns = ['Specs','Score']  #naming the dataframe columns\n",
        "print(featureScores.nlargest(10,'Score'))  #print 10 best features"
      ],
      "execution_count": null,
      "outputs": [
        {
          "output_type": "error",
          "ename": "NameError",
          "evalue": "ignored",
          "traceback": [
            "\u001b[0;31m---------------------------------------------------------------------------\u001b[0m",
            "\u001b[0;31mNameError\u001b[0m                                 Traceback (most recent call last)",
            "\u001b[0;32m<ipython-input-29-c89edda88705>\u001b[0m in \u001b[0;36m<module>\u001b[0;34m()\u001b[0m\n\u001b[1;32m      6\u001b[0m \u001b[0;31m#apply SelectKBest class to extract top 10 best features\u001b[0m\u001b[0;34m\u001b[0m\u001b[0;34m\u001b[0m\u001b[0;34m\u001b[0m\u001b[0m\n\u001b[1;32m      7\u001b[0m \u001b[0mbestfeatures\u001b[0m \u001b[0;34m=\u001b[0m \u001b[0mSelectKBest\u001b[0m\u001b[0;34m(\u001b[0m\u001b[0mscore_func\u001b[0m\u001b[0;34m=\u001b[0m\u001b[0mchi2\u001b[0m\u001b[0;34m,\u001b[0m \u001b[0mk\u001b[0m\u001b[0;34m=\u001b[0m\u001b[0;36m10\u001b[0m\u001b[0;34m)\u001b[0m\u001b[0;34m\u001b[0m\u001b[0;34m\u001b[0m\u001b[0m\n\u001b[0;32m----> 8\u001b[0;31m \u001b[0mfit\u001b[0m \u001b[0;34m=\u001b[0m \u001b[0mbestfeatures\u001b[0m\u001b[0;34m.\u001b[0m\u001b[0mfit\u001b[0m\u001b[0;34m(\u001b[0m\u001b[0mX\u001b[0m\u001b[0;34m,\u001b[0m\u001b[0my\u001b[0m\u001b[0;34m)\u001b[0m\u001b[0;34m\u001b[0m\u001b[0;34m\u001b[0m\u001b[0m\n\u001b[0m\u001b[1;32m      9\u001b[0m \u001b[0mdfscores\u001b[0m \u001b[0;34m=\u001b[0m \u001b[0mpd\u001b[0m\u001b[0;34m.\u001b[0m\u001b[0mDataFrame\u001b[0m\u001b[0;34m(\u001b[0m\u001b[0mfit\u001b[0m\u001b[0;34m.\u001b[0m\u001b[0mscores_\u001b[0m\u001b[0;34m)\u001b[0m\u001b[0;34m\u001b[0m\u001b[0;34m\u001b[0m\u001b[0m\n\u001b[1;32m     10\u001b[0m \u001b[0mdfcolumns\u001b[0m \u001b[0;34m=\u001b[0m \u001b[0mpd\u001b[0m\u001b[0;34m.\u001b[0m\u001b[0mDataFrame\u001b[0m\u001b[0;34m(\u001b[0m\u001b[0mX\u001b[0m\u001b[0;34m.\u001b[0m\u001b[0mcolumns\u001b[0m\u001b[0;34m)\u001b[0m\u001b[0;34m\u001b[0m\u001b[0;34m\u001b[0m\u001b[0m\n",
            "\u001b[0;31mNameError\u001b[0m: name 'X' is not defined"
          ]
        }
      ]
    },
    {
      "cell_type": "code",
      "metadata": {
        "colab": {
          "base_uri": "https://localhost:8080/",
          "height": 162
        },
        "id": "qNnmMzTjL0w9",
        "outputId": "6bef5460-42b6-45f9-b779-55cd397bf698"
      },
      "source": [
        "dn"
      ],
      "execution_count": null,
      "outputs": [
        {
          "output_type": "error",
          "ename": "NameError",
          "evalue": "ignored",
          "traceback": [
            "\u001b[0;31m---------------------------------------------------------------------------\u001b[0m",
            "\u001b[0;31mNameError\u001b[0m                                 Traceback (most recent call last)",
            "\u001b[0;32m<ipython-input-1-d0b6031e2140>\u001b[0m in \u001b[0;36m<module>\u001b[0;34m()\u001b[0m\n\u001b[0;32m----> 1\u001b[0;31m \u001b[0mdn\u001b[0m\u001b[0;34m\u001b[0m\u001b[0;34m\u001b[0m\u001b[0m\n\u001b[0m",
            "\u001b[0;31mNameError\u001b[0m: name 'dn' is not defined"
          ]
        }
      ]
    },
    {
      "cell_type": "code",
      "metadata": {
        "id": "F9ovTTX7L1N4"
      },
      "source": [
        "dz=df"
      ],
      "execution_count": null,
      "outputs": []
    },
    {
      "cell_type": "markdown",
      "metadata": {
        "id": "UEU-UCuRarah"
      },
      "source": [
        "# Ensemble"
      ]
    },
    {
      "cell_type": "code",
      "metadata": {
        "id": "ZB0J-tRwMilG",
        "colab": {
          "base_uri": "https://localhost:8080/",
          "height": 169
        },
        "outputId": "efebf9d2-6813-464f-9170-78a023ae2d24"
      },
      "source": [
        "from sklearn.preprocessing import MinMaxScaler\n",
        "scaler = MinMaxScaler()\n",
        "dz=df\n",
        "dz[['compound', 'neg', 'neu', 'pos' , 'polarity' , 'subjectivity','tpol','tsub','tneg','tneu','tpos','rated','leftc','rightc' ]] = scaler.fit_transform(dz[['compound', 'neg', 'neu', 'pos' , 'polarity' , 'subjectivity','tpol','tsub','tneg','tneu','tpos','rated','leftc','rightc'']])"
      ],
      "execution_count": null,
      "outputs": [
        {
          "output_type": "error",
          "ename": "SyntaxError",
          "evalue": "ignored",
          "traceback": [
            "\u001b[0;36m  File \u001b[0;32m\"<ipython-input-10-1fabf6aeb52d>\"\u001b[0;36m, line \u001b[0;32m4\u001b[0m\n\u001b[0;31m    dz[['compound', 'neg', 'neu', 'pos' , 'polarity' , 'subjectivity','tpol','tsub','tneg','tneu','tpos','rated','leftc','rightc' ]] = scaler.fit_transform(dz[['compound', 'neg', 'neu', 'pos' , 'polarity' , 'subjectivity','tpol','tsub','tneg','tneu','tpos','rated','leftc','rightc'']])\u001b[0m\n\u001b[0m                                                                                                                                                                                                                                                                                             ^\u001b[0m\n\u001b[0;31mSyntaxError\u001b[0m\u001b[0;31m:\u001b[0m EOL while scanning string literal\n"
          ]
        }
      ]
    },
    {
      "cell_type": "code",
      "metadata": {
        "id": "8rtAuPR0cMi2"
      },
      "source": [
        "# compare ensemble to each baseline classifier\n",
        "from numpy import mean\n",
        "from numpy import std\n",
        "from sklearn.datasets import make_classification\n",
        "from sklearn.model_selection import cross_val_score\n",
        "from sklearn.model_selection import RepeatedStratifiedKFold\n",
        "from sklearn.linear_model import LogisticRegression\n",
        "from sklearn.neighbors import KNeighborsClassifier\n",
        "from sklearn.tree import DecisionTreeClassifier\n",
        "from sklearn.svm import SVC\n",
        "from sklearn.naive_bayes import GaussianNB\n",
        "from sklearn.ensemble import StackingClassifier\n",
        "from matplotlib import pyplot"
      ],
      "execution_count": null,
      "outputs": []
    },
    {
      "cell_type": "code",
      "metadata": {
        "id": "vkMdBXTzW7zm"
      },
      "source": [
        "from sklearn.utils import shuffle\n",
        "dz = shuffle(dz)"
      ],
      "execution_count": null,
      "outputs": []
    },
    {
      "cell_type": "code",
      "metadata": {
        "id": "SpqwVheq-wyh"
      },
      "source": [
        "from sklearn.model_selection import train_test_split\n",
        "X=dz[['compound', 'neg', 'neu', 'pos' , 'polarity' , 'subjectivity','tneg', 'tneu', 'tpos','tpol','tsub','leftc','rightc']]\n",
        "y=dz['bd']\n",
        "X_train, X_test, y_train, y_test = train_test_split(X, y, test_size=0.3)"
      ],
      "execution_count": null,
      "outputs": []
    },
    {
      "cell_type": "code",
      "metadata": {
        "id": "0xcsNV0WatLi"
      },
      "source": [
        "#kfolds\n",
        "def get_models():\n",
        "  models = dict()\n",
        "  models['logreg'] = LogisticRegression()\n",
        "  models['kNN - '] = KNeighborsClassifier()\n",
        "  models['CART'] = DecisionTreeClassifier()\n",
        "  models['SVM'] = SVC()\n",
        "  models['NBys'] = GaussianNB()\n",
        "  models['RForest'] = RandomForestClassifier()\n",
        "  models['Adaboost'] = AdaBoostClassifier()\n",
        "  return models"
      ],
      "execution_count": null,
      "outputs": []
    },
    {
      "cell_type": "code",
      "metadata": {
        "id": "U1biivfPbEdY"
      },
      "source": [
        "def evaluate_model(model, X, y):\n",
        "\tcv = RepeatedStratifiedKFold(n_splits=10, n_repeats=3, random_state=1)\n",
        "\tscores = cross_val_score(model, X, y, scoring='accuracy', cv=cv, n_jobs=-1, error_score='raise')\n",
        "\treturn scores"
      ],
      "execution_count": null,
      "outputs": []
    },
    {
      "cell_type": "code",
      "metadata": {
        "colab": {
          "base_uri": "https://localhost:8080/",
          "height": 388
        },
        "id": "mtcq3iNybUQl",
        "outputId": "875ef391-044b-4c41-86f0-9c819ec72e2f"
      },
      "source": [
        "# get the models to evaluate\n",
        "models = get_models()\n",
        "# evaluate the models and store results\n",
        "results, names = list(), list()\n",
        "for name, model in models.items():\n",
        "\tscores = evaluate_model(model, X, y)\n",
        "\tresults.append(scores)\n",
        "\tnames.append(name)\n",
        "\tprint('>%s %.3f (%.3f)' % (name, mean(scores), std(scores)))\n",
        "# plot model performance for comparison\n",
        "pyplot.boxplot(results, labels=names, showmeans=True)\n",
        "pyplot.show()"
      ],
      "execution_count": null,
      "outputs": [
        {
          "output_type": "stream",
          "text": [
            ">logreg 0.639 (0.011)\n",
            ">kNN -  0.639 (0.024)\n",
            ">CART 0.635 (0.023)\n",
            ">SVM 0.635 (0.009)\n",
            ">NBys 0.637 (0.014)\n",
            ">RForest 0.703 (0.015)\n",
            ">Adaboost 0.648 (0.021)\n"
          ],
          "name": "stdout"
        },
        {
          "output_type": "display_data",
          "data": {
            "image/png": "[encoded data removed]",
            "text/plain": [
              "<Figure size 432x288 with 1 Axes>"
            ]
          },
          "metadata": {
            "tags": [],
            "needs_background": "light"
          }
        }
      ]
    },
    {
      "cell_type": "code",
      "metadata": {
        "id": "dZM-SNxpMhSt"
      },
      "source": [
        "dn.head()"
      ],
      "execution_count": null,
      "outputs": []
    },
    {
      "cell_type": "markdown",
      "metadata": {
        "id": "xKREdP6Lev3R"
      },
      "source": [
        "# Random Foresr"
      ]
    },
    {
      "cell_type": "code",
      "metadata": {
        "id": "TTtk0Yb7_Tkw"
      },
      "source": [
        "#Import Random Forest Model\n",
        "from sklearn.ensemble import RandomForestClassifier\n",
        "\n",
        "#Create a Gaussian Classifier\n",
        "clf=RandomForestClassifier(n_estimators=100)"
      ],
      "execution_count": null,
      "outputs": []
    },
    {
      "cell_type": "code",
      "metadata": {
        "id": "u8lsMcMm_XNy"
      },
      "source": [
        "clf.fit(X_train,y_train)\n",
        "y_pred=clf.predict(X_test)"
      ],
      "execution_count": null,
      "outputs": []
    },
    {
      "cell_type": "code",
      "metadata": {
        "colab": {
          "base_uri": "https://localhost:8080/"
        },
        "id": "OllOnQrt_b_0",
        "outputId": "d9446cbf-64c6-46a5-93fc-853a7ddd5d16"
      },
      "source": [
        "#Import scikit-learn metrics module for accuracy calculation\n",
        "from sklearn import metrics\n",
        "# Model Accuracy, how often is the classifier correct?\n",
        "print(\"Accuracy:\",metrics.accuracy_score(y_test, y_pred))"
      ],
      "execution_count": null,
      "outputs": [
        {
          "output_type": "stream",
          "text": [
            "Accuracy: 0.6779794790844514\n"
          ],
          "name": "stdout"
        }
      ]
    },
    {
      "cell_type": "code",
      "metadata": {
        "id": "VSFBVkCjTr5N"
      },
      "source": [
        "import pickle\n",
        "with open('model_pickle','wb') as f:\n",
        "  pickle.dump(clf,f)\n"
      ],
      "execution_count": null,
      "outputs": []
    },
    {
      "cell_type": "code",
      "metadata": {
        "id": "ywQURX58UGP5"
      },
      "source": [
        "with open('pickled_data_file.pkl', 'wb') as fid:\n",
        "     pickle.dump(clf, fid)"
      ],
      "execution_count": null,
      "outputs": []
    },
    {
      "cell_type": "code",
      "metadata": {
        "colab": {
          "base_uri": "https://localhost:8080/"
        },
        "id": "LF4peDApqv1Q",
        "outputId": "1c8d37a4-f61b-43b0-b2d0-e270126f1e8c"
      },
      "source": [
        "k=input(\"Enter the name of the link to be tested - \")\n",
        "pape = newspaper.build(k,language='en',memorize='false')\n",
        "article=Article(k)\n",
        "article.download()\n",
        "article.parse()\n",
        "article.nlp()\n",
        "v=sia.polarity_scores(article.text)\n",
        "v1=v[\"compound\"]\n",
        "v2=v[\"neg\"]\n",
        "v3=v[\"neu\"]\n",
        "v4=v[\"pos\"]\n",
        "testimonial = TextBlob(article.text)\n",
        "v5=testimonial.sentiment.polarity\n",
        "v6=testimonial.sentiment.subjectivity\n",
        "tte=article.text\n",
        "ve=sia.polarity_scores(article.title)\n",
        "v7=ve[\"neg\"]\n",
        "v8=ve[\"neu\"]\n",
        "v9=ve[\"pos\"]\n",
        "testimonial1 = TextBlob(title)\n",
        "v10=testimonial1.sentiment.polarity\n",
        "v11=testimonial1.sentiment.subjectivity\n",
        "b=0\n",
        "tt=[]\n",
        "tt=article.text.split(\".\")\n",
        "\n",
        "for m in tt:\n",
        "  for y in lib:\n",
        "    if y in m:\n",
        "      b=b-1\n",
        "      vt=sia.polarity_scores(x)\n",
        "    if vt[\"pos\"]>vt[\"neu\"]:\n",
        "      b=b-5\n",
        "    if vt[\"neg\"]>vt[\"neu\"]:\n",
        "      b=b+5\n",
        "    if vt[\"neg\"]>vt[\"pos\"]:\n",
        "      b=b+1\n",
        "    else:\n",
        "      b=b-1\n",
        "  else:\n",
        "    continue\n",
        "  for z in con:\n",
        "    if z in m:\n",
        "     b=b+0.5\n",
        "     vt1=sia.polarity_scores(x)\n",
        "     if vt1[\"neu\"]<vt1[\"pos\"]:\n",
        "       b=b+5\n",
        "     if vt1[\"neg\"]>vt1[\"neu\"]:\n",
        "       b=b-5\n",
        "     if vt1[\"neg\"]>vt1[\"pos\"]:\n",
        "        b=b-1\n",
        "     else:\n",
        "        b=b+1.1\n",
        "print(b)\n",
        "\n",
        "new=[[v1,v2,v3,v4,v5,v6,v7,v8,v9,v10,v11]]"
      ],
      "execution_count": null,
      "outputs": [
        {
          "output_type": "stream",
          "text": [
            "Enter the name of the link to be tested - https://www.newsmax.com/alfonsedamato/border-operation-warp-speed/2021/03/15/id/1013864/\n",
            "-2673\n"
          ],
          "name": "stdout"
        }
      ]
    },
    {
      "cell_type": "code",
      "metadata": {
        "colab": {
          "base_uri": "https://localhost:8080/"
        },
        "id": "U3gKTU-MBKx5",
        "outputId": "6202e7a5-7ff6-46b4-b6cc-38a98014c541"
      },
      "source": [
        "n1=clf.predict(new)\n",
        "#n2=clf1.predict(new)\n",
        "n3=boostmodel.predict(new)\n",
        "print(\"Random Forest - \", n1)\n",
        "#print(\"SVM - \", n2)\n",
        "print(\"Adaboost \", n3)"
      ],
      "execution_count": null,
      "outputs": [
        {
          "output_type": "stream",
          "text": [
            "Random Forest -  ['left']\n",
            "Adaboost  ['left']\n"
          ],
          "name": "stdout"
        }
      ]
    },
    {
      "cell_type": "code",
      "metadata": {
        "colab": {
          "base_uri": "https://localhost:8080/",
          "height": 35
        },
        "id": "EJyvdu4MsGWc",
        "outputId": "c637d7ed-b804-4514-fd45-5fe32cf64658"
      },
      "source": [
        "article.title"
      ],
      "execution_count": null,
      "outputs": [
        {
          "output_type": "execute_result",
          "data": {
            "application/vnd.google.colaboratory.intrinsic+json": {
              "type": "string"
            },
            "text/plain": [
              "'Nolte: Democrats, Bernie Bros Brawl over Joe Biden’s Mental Health'"
            ]
          },
          "metadata": {
            "tags": []
          },
          "execution_count": 136
        }
      ]
    },
    {
      "cell_type": "code",
      "metadata": {
        "id": "87iQO4s_sHjx"
      },
      "source": [
        ""
      ],
      "execution_count": null,
      "outputs": []
    },
    {
      "cell_type": "markdown",
      "metadata": {
        "id": "Q6Pu7KLHKgI0"
      },
      "source": [
        "# ADABOOST"
      ]
    },
    {
      "cell_type": "code",
      "metadata": {
        "id": "op4J9k63KCH1"
      },
      "source": [
        "from sklearn.ensemble import AdaBoostClassifier\n",
        "from sklearn.preprocessing import LabelEncoder\n",
        "from sklearn.tree import DecisionTreeClassifier\n",
        "from sklearn import metrics"
      ],
      "execution_count": null,
      "outputs": []
    },
    {
      "cell_type": "code",
      "metadata": {
        "id": "yVV5OCOOKvGh"
      },
      "source": [
        "mm=DecisionTreeClassifier(criterion='entropy',max_depth=1)\n",
        "AdaBoost = AdaBoostClassifier(base_estimator=mm,n_estimators=500,learning_rate=1)\n",
        "boostmodel=AdaBoost.fit(X_train,y_train)"
      ],
      "execution_count": null,
      "outputs": []
    },
    {
      "cell_type": "code",
      "metadata": {
        "id": "XcT53wLXLif6"
      },
      "source": [
        "y_pred=boostmodel.predict(X_test)"
      ],
      "execution_count": null,
      "outputs": []
    },
    {
      "cell_type": "code",
      "metadata": {
        "colab": {
          "base_uri": "https://localhost:8080/"
        },
        "id": "8apOLrPVLrlo",
        "outputId": "dfb3ef5c-f6f2-4077-c0b8-ac6e9cb32801"
      },
      "source": [
        "predi=metrics.accuracy_score(y_test,y_pred)\n",
        "predi"
      ],
      "execution_count": null,
      "outputs": [
        {
          "output_type": "execute_result",
          "data": {
            "text/plain": [
              "0.6550907655880032"
            ]
          },
          "metadata": {
            "tags": []
          },
          "execution_count": 73
        }
      ]
    },
    {
      "cell_type": "markdown",
      "metadata": {
        "id": "R4ijERXjYUHC"
      },
      "source": [
        "# SVM"
      ]
    },
    {
      "cell_type": "code",
      "metadata": {
        "id": "scdkW9geYgUW"
      },
      "source": [
        "from sklearn import svm \n",
        "clf1=svm.SVC(kernel='linear')\n",
        "clf1.fit(X_train,y_train)\n",
        "y_pred=clf1.predict(X_test)"
      ],
      "execution_count": null,
      "outputs": []
    },
    {
      "cell_type": "code",
      "metadata": {
        "colab": {
          "base_uri": "https://localhost:8080/"
        },
        "id": "IPaV5Be8ZZWo",
        "outputId": "ebdc3e50-aeea-4d91-b1a7-22e2f430b818"
      },
      "source": [
        "print(\"Accuracy:\",metrics.accuracy_score(y_test, y_pred))"
      ],
      "execution_count": null,
      "outputs": [
        {
          "output_type": "stream",
          "text": [
            "Accuracy: 0.6440410418310971\n"
          ],
          "name": "stdout"
        }
      ]
    },
    {
      "cell_type": "markdown",
      "metadata": {
        "id": "0UfnCcOXZ7YF"
      },
      "source": [
        "# Logistic Regression\n"
      ]
    },
    {
      "cell_type": "code",
      "metadata": {
        "id": "9nrncSksaMQj"
      },
      "source": [
        "from sklearn.linear_model import LogisticRegression\n",
        "\n",
        "# instantiate the model (using the default parameters)\n",
        "logreg = LogisticRegression()\n",
        "\n",
        "# fit the model with data\n",
        "logreg.fit(X_train,y_train)\n",
        "\n",
        "#\n",
        "y_pred=logreg.predict(X_test)"
      ],
      "execution_count": null,
      "outputs": []
    },
    {
      "cell_type": "code",
      "metadata": {
        "colab": {
          "base_uri": "https://localhost:8080/"
        },
        "id": "4Vx_hl0UaURb",
        "outputId": "3421356e-f7d5-4b68-afb5-4211034b254b"
      },
      "source": [
        "print(\"Accuracy:\",metrics.accuracy_score(y_test, y_pred))"
      ],
      "execution_count": null,
      "outputs": [
        {
          "output_type": "stream",
          "text": [
            "Accuracy: 0.6203630623520127\n"
          ],
          "name": "stdout"
        }
      ]
    },
    {
      "cell_type": "code",
      "metadata": {
        "colab": {
          "base_uri": "https://localhost:8080/"
        },
        "id": "q9nRc885aOgY",
        "outputId": "442492b7-95d7-4b4f-843c-c3de1ba874c2"
      },
      "source": [
        "from sklearn import metrics\n",
        "cnf_matrix = metrics.confusion_matrix(y_test, y_pred)\n",
        "cnf_matrix\n"
      ],
      "execution_count": null,
      "outputs": [
        {
          "output_type": "execute_result",
          "data": {
            "text/plain": [
              "array([[725,   8],\n",
              "       [451,  83]])"
            ]
          },
          "metadata": {
            "tags": []
          },
          "execution_count": 353
        }
      ]
    },
    {
      "cell_type": "markdown",
      "metadata": {
        "id": "0WCAvFT3aiDF"
      },
      "source": [
        "# kNN"
      ]
    },
    {
      "cell_type": "code",
      "metadata": {
        "id": "X6ol_HEYaoOo"
      },
      "source": [
        "#Import knearest neighbors Classifier model\n",
        "from sklearn.neighbors import KNeighborsClassifier\n",
        "\n",
        "#Create KNN Classifier\n",
        "knn = KNeighborsClassifier(n_neighbors=7)\n",
        "\n",
        "#Train the model using the training sets\n",
        "knn.fit(X_train, y_train)\n",
        "\n",
        "#Predict the response for test dataset\n",
        "y_pred = knn.predict(X_test)"
      ],
      "execution_count": null,
      "outputs": []
    },
    {
      "cell_type": "code",
      "metadata": {
        "colab": {
          "base_uri": "https://localhost:8080/"
        },
        "id": "1wrrK-KebKir",
        "outputId": "6a92efc8-94aa-4a66-d40a-5a1d5603be16"
      },
      "source": [
        "#Import scikit-learn metrics module for accuracy calculation\n",
        "from sklearn import metrics\n",
        "# Model Accuracy, how often is the classifier correct?\n",
        "print(\"Accuracy:\",metrics.accuracy_score(y_test, y_pred))"
      ],
      "execution_count": null,
      "outputs": [
        {
          "output_type": "stream",
          "text": [
            "Accuracy: 0.6361483820047356\n"
          ],
          "name": "stdout"
        }
      ]
    },
    {
      "cell_type": "markdown",
      "metadata": {
        "id": "b2LL4o2FbkH5"
      },
      "source": [
        "# Naive Bayes"
      ]
    },
    {
      "cell_type": "code",
      "metadata": {
        "id": "vPHtM5vEbmPs"
      },
      "source": [
        "from sklearn.preprocessing import StandardScaler\n",
        "sc = StandardScaler()\n",
        "X_train = sc.fit_transform(X_train)\n",
        "X_test = sc.transform(X_test)"
      ],
      "execution_count": null,
      "outputs": []
    },
    {
      "cell_type": "code",
      "metadata": {
        "colab": {
          "base_uri": "https://localhost:8080/"
        },
        "id": "gxIm7l7Lbs_K",
        "outputId": "9999659b-329e-4f85-d656-c7bbb5adae68"
      },
      "source": [
        "from sklearn.naive_bayes import GaussianNB\n",
        "classifier = GaussianNB()\n",
        "classifier.fit(X_train, y_train)"
      ],
      "execution_count": null,
      "outputs": [
        {
          "output_type": "execute_result",
          "data": {
            "text/plain": [
              "GaussianNB(priors=None, var_smoothing=1e-09)"
            ]
          },
          "metadata": {
            "tags": []
          },
          "execution_count": 28
        }
      ]
    },
    {
      "cell_type": "code",
      "metadata": {
        "id": "kA8M14xzbvCc"
      },
      "source": [
        "y_pred  =  classifier.predict(X_test)"
      ],
      "execution_count": null,
      "outputs": []
    },
    {
      "cell_type": "code",
      "metadata": {
        "colab": {
          "base_uri": "https://localhost:8080/"
        },
        "id": "3-6qFqVeby02",
        "outputId": "8d53f778-3d9c-43ce-ecf4-ff831eb88698"
      },
      "source": [
        "from sklearn.metrics import confusion_matrix,accuracy_score\n",
        "cm = confusion_matrix(y_test, y_pred)\n",
        "ac = accuracy_score(y_test,y_pred)\n",
        "print(cm,ac)"
      ],
      "execution_count": null,
      "outputs": [
        {
          "output_type": "stream",
          "text": [
            "[[686  34]\n",
            " [428 119]] 0.6353591160220995\n"
          ],
          "name": "stdout"
        }
      ]
    },
    {
      "cell_type": "markdown",
      "metadata": {
        "id": "2cFgZULtmmes"
      },
      "source": [
        "# Neural Network\n"
      ]
    },
    {
      "cell_type": "code",
      "metadata": {
        "id": "QcACiqQUsd7N"
      },
      "source": [
        "import pandas\n",
        "import joblib\n",
        "import numpy as np\n",
        "import matplotlib.pyplot as plt\n",
        "import sklearn.model_selection\n",
        "import sklearn.metrics\n",
        "import sklearn.neural_network"
      ],
      "execution_count": null,
      "outputs": []
    },
    {
      "cell_type": "code",
      "metadata": {
        "colab": {
          "base_uri": "https://localhost:8080/"
        },
        "id": "8B_COPzUmn9M",
        "outputId": "ab3cb23b-a59a-4a16-cd38-0f3c0da44ce2"
      },
      "source": [
        " model = sklearn.neural_network.MLPClassifier(hidden_layer_sizes=(100, ), activation='relu', solver='adam', \n",
        "                                                 alpha=0.0001, batch_size='auto', learning_rate='constant', learning_rate_init=0.001, power_t=0.5, \n",
        "                                                 max_iter=1000, shuffle=True, random_state=None, tol=0.0001, verbose=False, warm_start=False, momentum=0.9, \n",
        "                                                 nesterovs_momentum=True, early_stopping=False, validation_fraction=0.1, beta_1=0.9, beta_2=0.999, epsilon=1e-08, \n",
        "                                                 n_iter_no_change=10)\n",
        "    # Train the model on the whole data set\n",
        "model.fit(X_train, y_train)\n"
      ],
      "execution_count": null,
      "outputs": [
        {
          "output_type": "execute_result",
          "data": {
            "text/plain": [
              "MLPClassifier(activation='relu', alpha=0.0001, batch_size='auto', beta_1=0.9,\n",
              "              beta_2=0.999, early_stopping=False, epsilon=1e-08,\n",
              "              hidden_layer_sizes=(100,), learning_rate='constant',\n",
              "              learning_rate_init=0.001, max_fun=15000, max_iter=1000,\n",
              "              momentum=0.9, n_iter_no_change=10, nesterovs_momentum=True,\n",
              "              power_t=0.5, random_state=None, shuffle=True, solver='adam',\n",
              "              tol=0.0001, validation_fraction=0.1, verbose=False,\n",
              "              warm_start=False)"
            ]
          },
          "metadata": {
            "tags": []
          },
          "execution_count": 108
        }
      ]
    },
    {
      "cell_type": "code",
      "metadata": {
        "colab": {
          "base_uri": "https://localhost:8080/"
        },
        "id": "zWLg1HFjm0qt",
        "outputId": "29b1abef-ea9a-4109-8a5e-b22850515f58"
      },
      "source": [
        "    # Evaluate on training data\n",
        "    print('\\n-- Training data --')\n",
        "    predictions = model.predict(X_train)\n",
        "    accuracy = sklearn.metrics.accuracy_score(y_train, predictions)\n",
        "    print('Accuracy: {0:.2f}'.format(accuracy * 100.0))\n",
        "    print('Classification Report:')\n",
        "    print(sklearn.metrics.classification_report(y_train, predictions))\n",
        "    print('Confusion Matrix:')\n",
        "    print(sklearn.metrics.confusion_matrix(y_train, predictions))\n",
        "    print('')\n",
        "    # Evaluate on test data\n",
        "    print('\\n---- Test data ----')\n",
        "    predictions = model.predict(X_test)\n",
        "    accuracy = sklearn.metrics.accuracy_score(y_test, predictions)\n",
        "    print('Accuracy: {0:.2f}'.format(accuracy * 100.0))\n",
        "    print('Classification Report:')\n",
        "    print(sklearn.metrics.classification_report(y_test, predictions))\n",
        "    print('Confusion Matrix:')\n",
        "    print(sklearn.metrics.confusion_matrix(y_test, predictions))"
      ],
      "execution_count": null,
      "outputs": [
        {
          "output_type": "stream",
          "text": [
            "\n",
            "-- Training data --\n",
            "Accuracy: 76.47\n",
            "Classification Report:\n",
            "              precision    recall  f1-score   support\n",
            "\n",
            "        left       0.75      0.87      0.81      1670\n",
            "       right       0.79      0.63      0.70      1284\n",
            "\n",
            "    accuracy                           0.76      2954\n",
            "   macro avg       0.77      0.75      0.75      2954\n",
            "weighted avg       0.77      0.76      0.76      2954\n",
            "\n",
            "Confusion Matrix:\n",
            "[[1455  215]\n",
            " [ 480  804]]\n",
            "\n",
            "\n",
            "---- Test data ----\n",
            "Accuracy: 66.69\n",
            "Classification Report:\n",
            "              precision    recall  f1-score   support\n",
            "\n",
            "        left       0.70      0.77      0.73       741\n",
            "       right       0.62      0.53      0.57       526\n",
            "\n",
            "    accuracy                           0.67      1267\n",
            "   macro avg       0.66      0.65      0.65      1267\n",
            "weighted avg       0.66      0.67      0.66      1267\n",
            "\n",
            "Confusion Matrix:\n",
            "[[567 174]\n",
            " [248 278]]\n"
          ],
          "name": "stdout"
        }
      ]
    },
    {
      "cell_type": "markdown",
      "metadata": {
        "id": "5OGR4gYbmI9A"
      },
      "source": [
        "# Voting Ensemble"
      ]
    },
    {
      "cell_type": "code",
      "metadata": {
        "id": "5IGHYXMjm8-v"
      },
      "source": [
        "#Run Libraries\n",
        "!pip install nltk\n",
        "!pip install newspaper3k\n",
        "from newspaper import Article\n",
        "import newspaper\n",
        "from textblob import TextBlob\n",
        "import nltk\n",
        "nltk.download('vader_lexicon')\n",
        "nltk.download('punkt')\n",
        "from textblob import TextBlob\n",
        "from nltk.sentiment import SentimentIntensityAnalyzer\n",
        "sia = SentimentIntensityAnalyzer()"
      ],
      "execution_count": null,
      "outputs": []
    },
    {
      "cell_type": "code",
      "metadata": {
        "id": "qLbQg52pnJtW"
      },
      "source": [
        "X=dz[['compound', 'neg', 'neu', 'pos' , 'polarity' , 'subjectivity','tneg', 'tneu', 'tpos','tpol','tsub','rated']]\n"
      ],
      "execution_count": null,
      "outputs": []
    },
    {
      "cell_type": "code",
      "metadata": {
        "id": "jRHes9agnRA5"
      },
      "source": [
        ""
      ],
      "execution_count": null,
      "outputs": []
    }
  ]
}